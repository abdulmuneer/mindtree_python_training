{
 "cells": [
  {
   "cell_type": "code",
   "execution_count": null,
   "metadata": {
    "collapsed": true
   },
   "outputs": [],
   "source": [
    "class Base(object):\n",
    "    def __init__(self):\n",
    "        print \"Base created\"\n",
    "\n",
    "class ChildA(Base):\n",
    "    def __init__(self):\n",
    "        Base.__init__(self)\n",
    "\n",
    "class ChildB(Base):\n",
    "    def __init__(self):\n",
    "        super(ChildB, self).__init__()"
   ]
  }
 ],
 "metadata": {
  "kernelspec": {
   "display_name": "Python 2",
   "language": "python",
   "name": "python2"
  },
  "language_info": {
   "codemirror_mode": {
    "name": "ipython",
    "version": 2
   },
   "file_extension": ".py",
   "mimetype": "text/x-python",
   "name": "python",
   "nbconvert_exporter": "python",
   "pygments_lexer": "ipython2",
   "version": "2.7.11"
  }
 },
 "nbformat": 4,
 "nbformat_minor": 0
}
