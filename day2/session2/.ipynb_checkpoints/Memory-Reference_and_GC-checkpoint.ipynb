{
 "cells": [
  {
   "cell_type": "code",
   "execution_count": 23,
   "metadata": {
    "collapsed": true
   },
   "outputs": [],
   "source": [
    "import sys\n",
    "import gc"
   ]
  },
  {
   "cell_type": "code",
   "execution_count": 19,
   "metadata": {
    "collapsed": false
   },
   "outputs": [
    {
     "name": "stdout",
     "output_type": "stream",
     "text": [
      "2\n"
     ]
    }
   ],
   "source": [
    "x = [1, 2, 3]\n",
    "print sys.getrefcount(x)"
   ]
  },
  {
   "cell_type": "code",
   "execution_count": 20,
   "metadata": {
    "collapsed": false
   },
   "outputs": [
    {
     "name": "stdout",
     "output_type": "stream",
     "text": [
      "3\n"
     ]
    }
   ],
   "source": [
    "y = x\n",
    "print sys.getrefcount(x)"
   ]
  },
  {
   "cell_type": "code",
   "execution_count": 4,
   "metadata": {
    "collapsed": false
   },
   "outputs": [
    {
     "name": "stdout",
     "output_type": "stream",
     "text": [
      "2\n"
     ]
    }
   ],
   "source": [
    "del(y)\n",
    "print sys.getrefcount(x)"
   ]
  },
  {
   "cell_type": "code",
   "execution_count": 6,
   "metadata": {
    "collapsed": false
   },
   "outputs": [
    {
     "name": "stdout",
     "output_type": "stream",
     "text": [
      "[]\n"
     ]
    }
   ],
   "source": [
    "import gc\n",
    "print gc.garbage"
   ]
  },
  {
   "cell_type": "code",
   "execution_count": 15,
   "metadata": {
    "collapsed": false
   },
   "outputs": [
    {
     "name": "stdout",
     "output_type": "stream",
     "text": [
      "Linking nodes Graph(one).next = Graph(two)\n",
      "Linking nodes Graph(two).next = Graph(three)\n",
      "Linking nodes Graph(three).next = Graph(one)\n",
      "\n",
      "Collecting 0 ...\n",
      "Unreachable objects: 38\n",
      "Remaining Garbage:[]\n",
      "\n",
      "Collecting 1 ...\n",
      "Unreachable objects: 0\n",
      "Remaining Garbage:[]\n",
      "\n"
     ]
    }
   ],
   "source": [
    "#cyclic references\n",
    "import gc\n",
    "import pprint\n",
    "\n",
    "class Graph(object):\n",
    "    def __init__(self, name):\n",
    "        self.name = name\n",
    "        self.next = None\n",
    "    def set_next(self, next):\n",
    "        print 'Linking nodes %s.next = %s' % (self, next)\n",
    "        self.next = next\n",
    "    def __repr__(self):\n",
    "        return '%s(%s)' % (self.__class__.__name__, self.name)\n",
    "\n",
    "# Construct a graph cycle\n",
    "one = Graph('one')\n",
    "two = Graph('two')\n",
    "three = Graph('three')\n",
    "one.set_next(two)\n",
    "two.set_next(three)\n",
    "three.set_next(one)\n",
    "\n",
    "print\n",
    "\n",
    "# Remove references to the graph nodes in this module's namespace\n",
    "one = two = three = None\n",
    "\n",
    "# Show the effect of garbage collection\n",
    "for i in range(2):\n",
    "    print 'Collecting %d ...' % i\n",
    "    n = gc.collect()\n",
    "    print 'Unreachable objects:', n\n",
    "    print 'Remaining Garbage:', \n",
    "    pprint.pprint(gc.garbage)\n",
    "    print"
   ]
  },
  {
   "cell_type": "markdown",
   "metadata": {},
   "source": [
    "### If Graph has a __del__() method, however, the garbage collector cannot break the cycle."
   ]
  },
  {
   "cell_type": "markdown",
   "metadata": {},
   "source": [
    "###Because..."
   ]
  },
  {
   "cell_type": "markdown",
   "metadata": {},
   "source": [
    "* more than one object in the cycle has a finalizer method\n",
    "* the order in which the objects need to be finalized and then garbage collected cannot be determined\n",
    "* so the garbage collector plays it safe and keeps the objects."
   ]
  },
  {
   "cell_type": "code",
   "execution_count": 25,
   "metadata": {
    "collapsed": false
   },
   "outputs": [
    {
     "name": "stdout",
     "output_type": "stream",
     "text": [
      "Graph(one).next = Graph(two)\n",
      "Graph(two).next = Graph(three)\n",
      "Graph(three).next = Graph(one)\n",
      "Collecting...\n",
      "Unreachable objects: 23\n",
      "Remaining Garbage:[Graph(one), Graph(two), Graph(three)]\n",
      "\n"
     ]
    }
   ],
   "source": [
    "import gc\n",
    "import pprint\n",
    "\n",
    "class Graph(object):\n",
    "    def __init__(self, name):\n",
    "        self.name = name\n",
    "        self.next = None\n",
    "    def set_next(self, next):\n",
    "        print '%s.next = %s' % (self, next)\n",
    "        self.next = next\n",
    "    def __repr__(self):\n",
    "        return '%s(%s)' % (self.__class__.__name__, self.name)\n",
    "    def __del__(self):\n",
    "        print '%s.__del__()' % self\n",
    "\n",
    "# Construct a graph cycle\n",
    "one = Graph('one')\n",
    "two = Graph('two')\n",
    "three = Graph('three')\n",
    "one.set_next(two)\n",
    "two.set_next(three)\n",
    "three.set_next(one)\n",
    "\n",
    "# Remove references to the graph nodes in this module's namespace\n",
    "one = two = three = None\n",
    "\n",
    "# Show the effect of garbage collection\n",
    "print 'Collecting...'\n",
    "n = gc.collect()\n",
    "print 'Unreachable objects:', n\n",
    "print 'Remaining Garbage:', \n",
    "pprint.pprint(gc.garbage)"
   ]
  },
  {
   "cell_type": "markdown",
   "metadata": {},
   "source": [
    "### the Graph instances can be collected only when the cycle is broken"
   ]
  },
  {
   "cell_type": "code",
   "execution_count": 26,
   "metadata": {
    "collapsed": false
   },
   "outputs": [
    {
     "name": "stdout",
     "output_type": "stream",
     "text": [
      "\n",
      "Breaking the cycle\n",
      "Graph(one).next = None\n",
      "Removing references in gc.garbage\n",
      "Graph(two).__del__()\n",
      "Graph(three).__del__()\n",
      "Graph(one).__del__()\n",
      "\n",
      "Collecting...\n",
      "Unreachable objects: 9\n",
      "Remaining Garbage:[]\n",
      "\n"
     ]
    }
   ],
   "source": [
    "# Break the cycle\n",
    "print\n",
    "print 'Breaking the cycle'\n",
    "gc.garbage[0].set_next(None)\n",
    "print 'Removing references in gc.garbage'\n",
    "del gc.garbage[:]\n",
    "\n",
    "# Now the objects are removed\n",
    "print\n",
    "print 'Collecting...'\n",
    "n = gc.collect()\n",
    "print 'Unreachable objects:', n\n",
    "print 'Remaining Garbage:', \n",
    "pprint.pprint(gc.garbage)"
   ]
  },
  {
   "cell_type": "markdown",
   "metadata": {},
   "source": [
    "#### Note: gc.garbage holds a reference to the objects from the previous garbage collection run. It needs to be cleared out after the cycle is broken"
   ]
  },
  {
   "cell_type": "code",
   "execution_count": null,
   "metadata": {
    "collapsed": true
   },
   "outputs": [],
   "source": []
  }
 ],
 "metadata": {
  "kernelspec": {
   "display_name": "Python 2",
   "language": "python",
   "name": "python2"
  },
  "language_info": {
   "codemirror_mode": {
    "name": "ipython",
    "version": 2
   },
   "file_extension": ".py",
   "mimetype": "text/x-python",
   "name": "python",
   "nbconvert_exporter": "python",
   "pygments_lexer": "ipython2",
   "version": "2.7.11"
  }
 },
 "nbformat": 4,
 "nbformat_minor": 0
}
