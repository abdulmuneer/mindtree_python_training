{
 "cells": [
  {
   "cell_type": "markdown",
   "metadata": {},
   "source": [
    "### Subprocess "
   ]
  },
  {
   "cell_type": "code",
   "execution_count": null,
   "metadata": {
    "collapsed": false
   },
   "outputs": [],
   "source": [
    "import subprocess\n",
    "ls = subprocess.Popen(\"telnet\",\n",
    "                       shell=True,\n",
    "                       stdin =subprocess.PIPE,\n",
    "                       stdout=subprocess.PIPE,\n",
    "                       stderr=subprocess.PIPE)\n",
    "x = ls.stdout.readlines()\n",
    "print x"
   ]
  },
  {
   "cell_type": "code",
   "execution_count": null,
   "metadata": {
    "collapsed": false
   },
   "outputs": [],
   "source": [
    "ls.stdin.write(\"ls\")"
   ]
  },
  {
   "cell_type": "code",
   "execution_count": null,
   "metadata": {
    "collapsed": false
   },
   "outputs": [],
   "source": [
    "import subprocess\n",
    "import sys\n",
    "\n",
    "HOST=\"localhost\"\n",
    "# Ports are handled in ~/.ssh/config since we use OpenSSH\n",
    "COMMAND=\"uname -a\"\n",
    "\n",
    "ssh = subprocess.Popen([\"ssh\", \"%s\" % HOST, COMMAND],\n",
    "                       shell=False,\n",
    "                       stdout=subprocess.PIPE,\n",
    "                       stderr=subprocess.PIPE)\n",
    "result = ssh.stdout.readlines()\n",
    "if result == []:\n",
    "    error = ssh.stderr.readlines()\n",
    "    print >>sys.stderr, \"ERROR: %s\" % error\n",
    "else:\n",
    "    print result\n",
    "    "
   ]
  },
  {
   "cell_type": "markdown",
   "metadata": {
    "collapsed": true
   },
   "source": [
    " ```python\n",
    " subprocess.call(args, *, stdin=None, stdout=None, stderr=None, shell=False)\n",
    " ```\n",
    "\n",
    "    - Run the command described by args. Wait for command to complete, then return the returncode attribute.\n",
    "    - Do not use stdout=PIPE or stderr=PIPE with this function as that can deadlock based on the child process output volume. \n",
    "    - Use Popen with the communicate() method when you need pipes.\n",
    "    \n",
    "    \n",
    "    "
   ]
  },
  {
   "cell_type": "markdown",
   "metadata": {},
   "source": [
    " ```python\n",
    " subprocess.check_call(args, *, stdin=None, stdout=None, stderr=None, shell=False)\n",
    " ```\n",
    "\n",
    " - Run command with arguments. Wait for command to complete. If the return code was zero then return, otherwise raise CalledProcessError. The CalledProcessError object will have the return code in the returncode attribute."
   ]
  },
  {
   "cell_type": "markdown",
   "metadata": {},
   "source": [
    " ```python\n",
    "subprocess.check_output(args, *, stdin=None, stderr=None, shell=False, universal_newlines=False)\n",
    "```\n",
    "\n",
    "- Run command with arguments and return its output as a byte string.\n",
    "- If the return code was non-zero it raises a CalledProcessError. The CalledProcessError object will have the return code in the returncode attribute and any output in the output attribute."
   ]
  }
 ],
 "metadata": {
  "kernelspec": {
   "display_name": "Python 2",
   "language": "python",
   "name": "python2"
  },
  "language_info": {
   "codemirror_mode": {
    "name": "ipython",
    "version": 2
   },
   "file_extension": ".py",
   "mimetype": "text/x-python",
   "name": "python",
   "nbconvert_exporter": "python",
   "pygments_lexer": "ipython2",
   "version": "2.7.11"
  }
 },
 "nbformat": 4,
 "nbformat_minor": 0
}
