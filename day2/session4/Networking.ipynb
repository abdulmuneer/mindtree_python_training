{
 "cells": [
  {
   "cell_type": "markdown",
   "metadata": {},
   "source": [
    "#### SSH"
   ]
  },
  {
   "cell_type": "code",
   "execution_count": null,
   "metadata": {
    "collapsed": true
   },
   "outputs": [],
   "source": [
    "import paramiko\n",
    "import time\n",
    "def disable_paging(remote_conn):\n",
    "    '''Disable paging on a Cisco router'''\n",
    "\n",
    "    remote_conn.send(\"terminal length 0\\n\")\n",
    "    time.sleep(1)\n",
    "    # Clear the buffer on the screen\n",
    "    output = remote_conn.recv(1000)\n",
    "    return output\n",
    "\n",
    "if __name__ == '__main__':\n",
    "\n",
    "\n",
    "    # VARIABLES THAT NEEDS TO BE CHANGED\n",
    "    ip = '1.1.1.16'\n",
    "    username = 'testuser'\n",
    "    password = 'password'\n",
    "\n",
    "    # Create instance of SSHClient object\n",
    "    remote_conn_pre = paramiko.SSHClient()\n",
    "\n",
    "    # Automatically add untrusted hosts (make sure okay for security policy in your environment)\n",
    "    remote_conn_pre.set_missing_host_key_policy(\n",
    "         paramiko.AutoAddPolicy())\n",
    "\n",
    "    # initiate SSH connection\n",
    "    remote_conn_pre.connect(ip, username=username, password=password)\n",
    "    print \"SSH connection established to %s\" % ip\n",
    "\n",
    "    # Use invoke_shell to establish an 'interactive session'\n",
    "    remote_conn = remote_conn_pre.invoke_shell()\n",
    "    print \"Interactive SSH session established\"\n",
    "\n",
    "    # Strip the initial router prompt\n",
    "    output = remote_conn.recv(1000)\n",
    "\n",
    "    # See what we have\n",
    "    print output\n",
    "\n",
    "    # Turn off paging\n",
    "    disable_paging(remote_conn)\n",
    "\n",
    "    # Now let's try to send the router a command\n",
    "    remote_conn.send(\"\\n\")\n",
    "    remote_conn.send(\"show ip int brief\\n\")\n",
    "\n",
    "    # Wait for the command to complete\n",
    "    time.sleep(2)\n",
    "    \n",
    "    output = remote_conn.recv(5000)\n",
    "    print output"
   ]
  },
  {
   "cell_type": "code",
   "execution_count": null,
   "metadata": {
    "collapsed": true
   },
   "outputs": [],
   "source": []
  },
  {
   "cell_type": "markdown",
   "metadata": {},
   "source": [
    "#### TELNET"
   ]
  },
  {
   "cell_type": "code",
   "execution_count": null,
   "metadata": {
    "collapsed": true
   },
   "outputs": [],
   "source": [
    "#telnet\n",
    "\n",
    "import getpass\n",
    "import sys\n",
    "import telnetlib\n",
    "\n",
    "HOST = \"localhost\"\n",
    "\n",
    "user = raw_input(\"Enter your remote account: \")\n",
    "\n",
    "password = getpass.getpass()\n",
    "\n",
    "tn = telnetlib.Telnet(HOST)\n",
    "\n",
    "tn.read_until(\"login: \")\n",
    "\n",
    "tn.write(user + \"\\n\")\n",
    "\n",
    "if password:\n",
    "    tn.read_until(\"Password: \")\n",
    "    tn.write(password + \"\\n\")\n",
    "\n",
    "tn.write(\"ls\\n\")\n",
    "\n",
    "tn.write(\"exit\\n\")\n",
    "\n",
    "print tn.read_all()"
   ]
  },
  {
   "cell_type": "markdown",
   "metadata": {},
   "source": [
    "### HTTP"
   ]
  },
  {
   "cell_type": "code",
   "execution_count": 2,
   "metadata": {
    "collapsed": true
   },
   "outputs": [],
   "source": [
    "import requests"
   ]
  },
  {
   "cell_type": "code",
   "execution_count": 3,
   "metadata": {
    "collapsed": false
   },
   "outputs": [
    {
     "name": "stdout",
     "output_type": "stream",
     "text": [
      "['__attrs__', '__bool__', '__class__', '__delattr__', '__dict__', '__doc__', '__format__', '__getattribute__', '__getstate__', '__hash__', '__init__', '__iter__', '__module__', '__new__', '__nonzero__', '__reduce__', '__reduce_ex__', '__repr__', '__setattr__', '__setstate__', '__sizeof__', '__str__', '__subclasshook__', '__weakref__', '_content', '_content_consumed', 'apparent_encoding', 'close', 'connection', 'content', 'cookies', 'elapsed', 'encoding', 'headers', 'history', 'is_permanent_redirect', 'is_redirect', 'iter_content', 'iter_lines', 'json', 'links', 'ok', 'raise_for_status', 'raw', 'reason', 'request', 'status_code', 'text', 'url']\n"
     ]
    }
   ],
   "source": [
    "x = requests.get(\"http://0.0.0.0:8888/\")\n",
    "print dir(x)"
   ]
  },
  {
   "cell_type": "code",
   "execution_count": 4,
   "metadata": {
    "collapsed": false
   },
   "outputs": [
    {
     "name": "stdout",
     "output_type": "stream",
     "text": [
      "200\n"
     ]
    }
   ],
   "source": [
    "print x.status_code"
   ]
  },
  {
   "cell_type": "code",
   "execution_count": 5,
   "metadata": {
    "collapsed": false
   },
   "outputs": [
    {
     "name": "stdout",
     "output_type": "stream",
     "text": [
      "<!DOCTYPE HTML>\n",
      "<html>\n",
      "\n",
      "<head>\n",
      "    <meta charset=\"utf-8\">\n",
      "\n",
      "    <title>Home</title>\n",
      "    <link rel=\"shortcut icon\" type=\"image/x-icon\" href=\"/static/base/images/favicon.ico?v=30780f272ab4aac64aa073a841546240\">\n",
      "    <meta http-equiv=\"X-UA-Compatible\" content=\"IE=edge\" />\n",
      "    <link rel=\"stylesheet\" href=\"/static/components/jquery-ui/themes/smoothness/jquery-ui.min.css?v=9b2c8d3489227115310662a343fce11c\" type=\"text/css\" />\n",
      "    <link rel=\"stylesheet\" href=\"/static/components/jquery-typeahead/dist/jquery.typeahead.min.css?v=7afb461de36accb1aa133a1710f5bc56\" type=\"text/css\" />\n",
      "    <meta name=\"viewport\" content=\"width=device-width, initial-scale=1.0\">\n",
      "    \n",
      "    \n",
      "    <link rel=\"stylesheet\" href=\"/static/style/style.min.css?v=807166c81ded9672f91872a576572dcd\" type=\"text/css\"/>\n",
      "    \n",
      "    <link rel=\"stylesheet\" href=\"/custom/custom.css\" type=\"text/css\" />\n",
      "    <script src=\"/static/components/es6-promise/promise.min.js?v=f004a16cb856e0ff11781d01ec5ca8fe\" type=\"text/javascript\" charset=\"utf-8\"></script>\n",
      "    <script src=\"/static/components/requirejs/require.js?v=6da8be361b9ee26c5e721e76c6d4afce\" type=\"text/javascript\" charset=\"utf-8\"></script>\n",
      "    <script>\n",
      "      require.config({\n",
      "          \n",
      "          urlArgs: \"v=20160221094736\",\n",
      "          \n",
      "          baseUrl: '/static/',\n",
      "          paths: {\n",
      "            'auth/js/main': 'auth/js/main.min',\n",
      "            custom : '/custom',\n",
      "            nbextensions : '/nbextensions',\n",
      "            widgets : '/deprecatedwidgets',\n",
      "            kernelspecs : '/kernelspecs',\n",
      "            underscore : 'components/underscore/underscore-min',\n",
      "            backbone : 'components/backbone/backbone-min',\n",
      "            jquery: 'components/jquery/jquery.min',\n",
      "            bootstrap: 'components/bootstrap/js/bootstrap.min',\n",
      "            bootstraptour: 'components/bootstrap-tour/build/js/bootstrap-tour.min',\n",
      "            'jquery-ui': 'components/jquery-ui/ui/minified/jquery-ui.min',\n",
      "            moment: 'components/moment/moment',\n",
      "            codemirror: 'components/codemirror',\n",
      "            termjs: 'components/term.js/src/term',\n",
      "            typeahead: 'components/jquery-typeahead/dist/jquery.typeahead'\n",
      "          },\n",
      "\t  map: { // for backward compatibility\n",
      "\t    \"*\": {\n",
      "\t\t\"jqueryui\": \"jquery-ui\",\n",
      "\t    }\n",
      "\t  },\n",
      "          shim: {\n",
      "            typeahead: {\n",
      "              deps: [\"jquery\"],\n",
      "              exports: \"typeahead\"\n",
      "            },\n",
      "            underscore: {\n",
      "              exports: '_'\n",
      "            },\n",
      "            backbone: {\n",
      "              deps: [\"underscore\", \"jquery\"],\n",
      "              exports: \"Backbone\"\n",
      "            },\n",
      "            bootstrap: {\n",
      "              deps: [\"jquery\"],\n",
      "              exports: \"bootstrap\"\n",
      "            },\n",
      "            bootstraptour: {\n",
      "              deps: [\"bootstrap\"],\n",
      "              exports: \"Tour\"\n",
      "            },\n",
      "            \"jquery-ui\": {\n",
      "              deps: [\"jquery\"],\n",
      "              exports: \"$\"\n",
      "            }\n",
      "          },\n",
      "          waitSeconds: 30,\n",
      "      });\n",
      "\n",
      "      require.config({\n",
      "          map: {\n",
      "              '*':{\n",
      "                'contents': 'services/contents',\n",
      "              }\n",
      "          }\n",
      "      });\n",
      "    </script>\n",
      "\n",
      "    \n",
      "    \n",
      "\n",
      "</head>\n",
      "\n",
      "<body class=\"\" \n",
      "\n",
      "data-base-url=\"/\"\n",
      "data-notebook-path=\"\"\n",
      "data-terminals-available=\"True\"\n",
      "\n",
      ">\n",
      "\n",
      "<noscript>\n",
      "    <div id='noscript'>\n",
      "      IPython Notebook requires JavaScript.<br>\n",
      "      Please enable it to proceed.\n",
      "  </div>\n",
      "</noscript>\n",
      "\n",
      "<div id=\"header\">\n",
      "  <div id=\"header-container\" class=\"container\">\n",
      "  <div id=\"ipython_notebook\" class=\"nav navbar-brand pull-left\"><a href=\"/tree\" title='dashboard'><img src='/static/base/images/logo.png?v=7c4597ba713d804995e8f8dad448a397' alt='Jupyter Notebook'/></a></div>\n",
      "\n",
      "  \n",
      "  \n",
      "  \n",
      "\n",
      "    <span id=\"login_widget\">\n",
      "      \n",
      "    </span>\n",
      "\n",
      "  \n",
      "\n",
      "  \n",
      "\n",
      "  \n",
      "  \n",
      "  </div>\n",
      "  <div class=\"header-bar\"></div>\n",
      "\n",
      "  \n",
      "  \n",
      "</div>\n",
      "\n",
      "<div id=\"site\">\n",
      "\n",
      "\n",
      "  <div id=\"ipython-main-app\" class=\"container\">\n",
      "    <div id=\"tab_content\" class=\"tabbable\">\n",
      "      <ul id=\"tabs\" class=\"nav nav-tabs\">\n",
      "        <li class=\"active\"><a href=\"#notebooks\" data-toggle=\"tab\">Files</a></li>\n",
      "        <li><a href=\"#running\" data-toggle=\"tab\">Running</a></li>\n",
      "        <li><a href=\"#clusters\" data-toggle=\"tab\" class=\"clusters_tab_link\" >Clusters</a></li>\n",
      "      </ul>\n",
      "      <div class=\"tab-content\">\n",
      "        <div id=\"notebooks\" class=\"tab-pane active\">\n",
      "          <div id=\"notebook_toolbar\" class=\"row\">\n",
      "            <div class=\"col-sm-8 no-padding\">\n",
      "              <div class=\"dynamic-instructions\">\n",
      "                Select items to perform actions on them.\n",
      "              </div>\n",
      "              <div class=\"dynamic-buttons\">\n",
      "                  <button title=\"Duplicate selected\" class=\"duplicate-button btn btn-default btn-xs\">Duplicate</button>\n",
      "                  <button title=\"Rename selected\" class=\"rename-button btn btn-default btn-xs\">Rename</button>\n",
      "                  <button title=\"Shutdown selected notebook(s)\" class=\"shutdown-button btn btn-default btn-xs btn-warning\">Shutdown</button>\n",
      "                  <button title=\"Delete selected\" class=\"delete-button btn btn-default btn-xs btn-danger\"><i class=\"fa fa-trash\"></i></button>\n",
      "              </div>\n",
      "            </div>\n",
      "            <div class=\"col-sm-4 no-padding tree-buttons\">\n",
      "              <div class=\"pull-right\">\n",
      "                <form id='alternate_upload'  class='alternate_upload'>\n",
      "                  <span id=\"notebook_list_info\">\n",
      "                  <span class=\"btn btn-xs btn-default btn-upload\">\n",
      "                  <input  title=\"Click to browse for a file to upload.\" type=\"file\" name=\"datafile\" class=\"fileinput\" multiple='multiple'>\n",
      "                  Upload\n",
      "                  </span>\n",
      "                  </span>\n",
      "                </form>\n",
      "                <div id=\"new-buttons\" class=\"btn-group\">\n",
      "                  <button class=\"dropdown-toggle btn btn-default btn-xs\" data-toggle=\"dropdown\">\n",
      "                  <span>New</span>\n",
      "                  <span class=\"caret\"></span>\n",
      "                  </button>\n",
      "                  <ul id=\"new-menu\" class=\"dropdown-menu\">\n",
      "                    <li role=\"presentation\" id=\"new-file\">\n",
      "                      <a role=\"menuitem\" tabindex=\"-1\" href=\"#\">Text File</a>\n",
      "                    </li>\n",
      "                    <li role=\"presentation\" id=\"new-folder\">\n",
      "                      <a role=\"menuitem\" tabindex=\"-1\" href=\"#\">Folder</a>\n",
      "                    </li>\n",
      "                    \n",
      "                    <li role=\"presentation\" id=\"new-terminal\">\n",
      "                      <a role=\"menuitem\" tabindex=\"-1\" href=\"#\">Terminal</a>\n",
      "                    </li>\n",
      "                    \n",
      "                    <li role=\"presentation\" class=\"divider\"></li>\n",
      "                    <li role=\"presentation\" class=\"dropdown-header\" id=\"notebook-kernels\">Notebooks</li>\n",
      "                  </ul>\n",
      "                </div>\n",
      "                <div class=\"btn-group\">\n",
      "                    <button id=\"refresh_notebook_list\" title=\"Refresh notebook list\" class=\"btn btn-default btn-xs\"><i class=\"fa fa-refresh\"></i></button>\n",
      "                </div>\n",
      "              </div>\n",
      "            </div>\n",
      "          </div>\n",
      "          <div id=\"notebook_list\">\n",
      "            <div id=\"notebook_list_header\" class=\"row list_header\">\n",
      "              <div class=\"btn-group dropdown\" id=\"tree-selector\">\n",
      "                <button title=\"Select All / None\" type=\"button\" class=\"btn btn-default btn-xs\" id=\"button-select-all\">\n",
      "                  <input type=\"checkbox\" class=\"pull-left tree-selector\" id=\"select-all\"><span id=\"counter-select-all\">&nbsp;</span></input>\n",
      "                </button>\n",
      "                <button title=\"Select...\" class=\"btn btn-default btn-xs dropdown-toggle\" type=\"button\" id=\"tree-selector-btn\" data-toggle=\"dropdown\" aria-expanded=\"true\">\n",
      "                  <span class=\"caret\"></span>\n",
      "                  <span class=\"sr-only\">Toggle Dropdown</span>\n",
      "                </button>\n",
      "                <ul id='selector-menu' class=\"dropdown-menu\" role=\"menu\" aria-labelledby=\"tree-selector-btn\">\n",
      "                  <li role=\"presentation\"><a id=\"select-folders\" role=\"menuitem\" tabindex=\"-1\" href=\"#\" title=\"Select All Folders\"><i class=\"menu_icon folder_icon icon-fixed-width\"></i> Folders</a></li>\n",
      "                  <li role=\"presentation\"><a id=\"select-notebooks\" role=\"menuitem\" tabindex=\"-1\" href=\"#\" title=\"Select All Notebooks\"><i class=\"menu_icon notebook_icon icon-fixed-width\"></i> All Notebooks</a></li>\n",
      "                  <li role=\"presentation\"><a id=\"select-running-notebooks\" role=\"menuitem\" tabindex=\"-1\" href=\"#\" title=\"Select Running Notebooks\"><i class=\"menu_icon running_notebook_icon icon-fixed-width\"></i> Running</a></li>\n",
      "                  <li role=\"presentation\"><a id=\"select-files\" role=\"menuitem\" tabindex=\"-1\" href=\"#\" title=\"Select All Files\"><i class=\"menu_icon file_icon icon-fixed-width\"></i> Files</a></li>\n",
      "                </ul>\n",
      "              </div>\n",
      "              <div id=\"project_name\">\n",
      "                <ul class=\"breadcrumb\">\n",
      "                  <li><a href=\"/tree\"><i class=\"fa fa-home\"></i></a></li>\n",
      "                \n",
      "                </ul>\n",
      "              </div>\n",
      "            </div>\n",
      "          </div>\n",
      "        </div>\n",
      "        <div id=\"running\" class=\"tab-pane\">\n",
      "          <div id=\"running_toolbar\" class=\"row\">\n",
      "            <div class=\"col-sm-8 no-padding\">\n",
      "              <span id=\"running_list_info\">Currently running Jupyter processes</span>\n",
      "            </div>\n",
      "            <div class=\"col-sm-4 no-padding tree-buttons\">\n",
      "              <span id=\"running_buttons\" class=\"pull-right\">\n",
      "              <button id=\"refresh_running_list\" title=\"Refresh running list\" class=\"btn btn-default btn-xs\"><i class=\"fa fa-refresh\"></i></button>\n",
      "              </span>\n",
      "            </div>\n",
      "          </div>\n",
      "          <div class=\"panel-group\" id=\"accordion\" >\n",
      "            <div class=\"panel panel-default\">\n",
      "              <div class=\"panel-heading\">\n",
      "                <a data-toggle=\"collapse\" data-target=\"#collapseOne\" href=\"#\">\n",
      "                  Terminals\n",
      "                </a>\n",
      "              </div>\n",
      "              <div id=\"collapseOne\" class=\" collapse in\">\n",
      "                <div class=\"panel-body\">\n",
      "                  <div id=\"terminal_list\">\n",
      "                    <div id=\"terminal_list_header\" class=\"row list_placeholder\">\n",
      "                    \n",
      "                      <div> There are no terminals running. </div>\n",
      "                    \n",
      "                    </div>\n",
      "                  </div>\n",
      "                </div>\n",
      "              </div>\n",
      "            </div>\n",
      "            <div class=\"panel panel-default\">\n",
      "              <div class=\"panel-heading\">\n",
      "                <a data-toggle=\"collapse\" data-target=\"#collapseTwo\" href=\"#\">\n",
      "                  Notebooks\n",
      "                </a>\n",
      "              </div>\n",
      "              <div id=\"collapseTwo\" class=\" collapse in\">\n",
      "                <div class=\"panel-body\">\n",
      "                  <div id=\"running_list\">\n",
      "                    <div id=\"running_list_placeholder\" class=\"row list_placeholder\">\n",
      "                      <div> There are no notebooks running. </div>\n",
      "                    </div>\n",
      "                  </div>\n",
      "                </div>\n",
      "              </div>\n",
      "            </div>\n",
      "          </div>\n",
      "        </div>\n",
      "        <div id=\"clusters\" class=\"tab-pane\">\n",
      "          Clusters tab is now provided by IPython parallel.\n",
      "          See <a href=\"https://github.com/ipython/ipyparallel\">IPython parallel</a> for installation details.\n",
      "        </div>\n",
      "      </div><!-- class:tab-content -->\n",
      "    </div><!-- id:tab_content --> \n",
      "  </div><!-- ipython-main-app  -->\n",
      "\n",
      "\n",
      "</div>\n",
      "\n",
      "\n",
      "\n",
      "\n",
      "\n",
      "    \n",
      "\n",
      "\n",
      "\n",
      "    <script src=\"/static/tree/js/main.min.js?v=cee9d5ded70fc8733bb888581c22f633\" type=\"text/javascript\" charset=\"utf-8\"></script>\n",
      "\n",
      "\n",
      "\n",
      "</body>\n",
      "\n",
      "</html>\n"
     ]
    }
   ],
   "source": [
    "print x.content"
   ]
  },
  {
   "cell_type": "code",
   "execution_count": 6,
   "metadata": {
    "collapsed": false
   },
   "outputs": [
    {
     "name": "stdout",
     "output_type": "stream",
     "text": [
      "Help on function post in module requests.api:\n",
      "\n",
      "post(url, data=None, json=None, **kwargs)\n",
      "    Sends a POST request.\n",
      "    \n",
      "    :param url: URL for the new :class:`Request` object.\n",
      "    :param data: (optional) Dictionary, bytes, or file-like object to send in the body of the :class:`Request`.\n",
      "    :param json: (optional) json data to send in the body of the :class:`Request`.\n",
      "    :param \\*\\*kwargs: Optional arguments that ``request`` takes.\n",
      "    :return: :class:`Response <Response>` object\n",
      "    :rtype: requests.Response\n",
      "\n"
     ]
    }
   ],
   "source": [
    "help(requests.post)"
   ]
  },
  {
   "cell_type": "code",
   "execution_count": null,
   "metadata": {
    "collapsed": false
   },
   "outputs": [],
   "source": [
    "print x.text"
   ]
  },
  {
   "cell_type": "code",
   "execution_count": null,
   "metadata": {
    "collapsed": true
   },
   "outputs": [],
   "source": [
    "y= requests.post('http://0.0.0.0:8888/')"
   ]
  },
  {
   "cell_type": "markdown",
   "metadata": {},
   "source": [
    "#### SERIAL PORT"
   ]
  },
  {
   "cell_type": "code",
   "execution_count": null,
   "metadata": {
    "collapsed": true
   },
   "outputs": [],
   "source": [
    "import serial"
   ]
  },
  {
   "cell_type": "code",
   "execution_count": null,
   "metadata": {
    "collapsed": false,
    "scrolled": true
   },
   "outputs": [],
   "source": [
    "ser = serial.Serial('/dev/ttyS2')\n",
    "ser.portstr"
   ]
  },
  {
   "cell_type": "code",
   "execution_count": null,
   "metadata": {
    "collapsed": true
   },
   "outputs": [],
   "source": [
    "dir(ser)"
   ]
  },
  {
   "cell_type": "markdown",
   "metadata": {},
   "source": [
    "write(data) will write the string data to the port and returns no. of bytes sent."
   ]
  },
  {
   "cell_type": "code",
   "execution_count": null,
   "metadata": {
    "collapsed": true
   },
   "outputs": [],
   "source": [
    "ser.write('+++')"
   ]
  },
  {
   "cell_type": "markdown",
   "metadata": {},
   "source": [
    "- read(size) will read data from serial port\n",
    "\n",
    "- A time out can be set, so that within that time if no characters are received, read() will return an empty string. \n",
    "-  If timout is None, read() won’t return until it receives the no. of bytes specified as argument.\n"
   ]
  },
  {
   "cell_type": "code",
   "execution_count": null,
   "metadata": {
    "collapsed": true
   },
   "outputs": [],
   "source": [
    "ser.timeout = 1\n",
    "ser.read(1)"
   ]
  },
  {
   "cell_type": "code",
   "execution_count": null,
   "metadata": {
    "collapsed": true
   },
   "outputs": [],
   "source": [
    "ser.timeout = None\n",
    "ser.read(1)"
   ]
  },
  {
   "cell_type": "code",
   "execution_count": null,
   "metadata": {
    "collapsed": true
   },
   "outputs": [],
   "source": [
    "ser.readline()      # return the string when it sees new line character or EOL"
   ]
  },
  {
   "cell_type": "code",
   "execution_count": null,
   "metadata": {
    "collapsed": true
   },
   "outputs": [],
   "source": [
    "ser.readlines()     # It will return only the no of bytes read within the specified timeout."
   ]
  }
 ],
 "metadata": {
  "kernelspec": {
   "display_name": "Python 2",
   "language": "python",
   "name": "python2"
  },
  "language_info": {
   "codemirror_mode": {
    "name": "ipython",
    "version": 2
   },
   "file_extension": ".py",
   "mimetype": "text/x-python",
   "name": "python",
   "nbconvert_exporter": "python",
   "pygments_lexer": "ipython2",
   "version": "2.7.11"
  }
 },
 "nbformat": 4,
 "nbformat_minor": 0
}
