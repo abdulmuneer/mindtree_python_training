{
 "cells": [
  {
   "cell_type": "markdown",
   "metadata": {},
   "source": [
    "#### Files\n",
    "* Opening\n",
    "* closing\n",
    "* reading\n",
    "* writing\n",
    "* deleting\n"
   ]
  },
  {
   "cell_type": "markdown",
   "metadata": {},
   "source": [
    "#### Opening\n",
    "\n",
    "file_object = open(file_name [, access_mode])"
   ]
  },
  {
   "cell_type": "markdown",
   "metadata": {},
   "source": [
    "<p>Here is a list of the different modes of opening a file −</p>\n",
    "<table class=\"table table-bordered\">\n",
    "<tbody><tr><th style=\"width:10%\">Modes</th><th>Description</th></tr>\n",
    "<tr><td>r</td><td>Opens a file for reading only. The file pointer is placed at the beginning of the file. This is the default mode.</td></tr>\n",
    "<tr><td>rb</td><td>Opens a file for reading only in binary format. The file pointer is placed at the beginning of the file. This is the default mode.</td></tr>\n",
    "<tr><td>r+</td><td>Opens a file for both reading and writing. The file pointer placed at the beginning of the file.</td></tr>\n",
    "<tr><td>rb+</td><td>Opens a file for both reading and writing in binary format. The file pointer placed at the beginning of the file.</td></tr>\n",
    "<tr><td>w</td><td>Opens a file for writing only. Overwrites the file if the file exists. If the file does not exist, creates a new file for writing.</td></tr>\n",
    "<tr><td>wb</td><td>Opens a file for writing only in binary format. Overwrites the file if the file exists. If the file does not exist, creates a new file for writing.</td></tr>\n",
    "<tr><td>w+</td><td>Opens a file for both writing and reading. Overwrites the existing file if the file exists. If the file does not exist, creates a new file for\n",
    "reading and writing.</td></tr> \n",
    "<tr><td>wb+</td><td>Opens a file for both writing and reading in binary format. Overwrites the existing file if the file exists. If the file does not exist, creates a new file for reading and writing.</td></tr>\n",
    "<tr><td>a</td><td>Opens a file for appending. The file pointer is at the end of the file if the file exists. That is, the file is in the append mode. If the file does not exist, it creates a new file for writing.</td></tr> \n",
    "<tr><td>ab</td><td>Opens a file for appending in binary format. The file pointer is at the end of the file if the file exists. That is, the file is in the append mode. If the file does not exist, it creates a new file for writing.</td></tr> \n",
    "<tr><td>a+</td><td>Opens a file for both appending and reading. The file pointer is at the end of the file if the file exists. The file opens in the append mode. If the file does not exist, it creates a new file for reading and writing.</td></tr> \n",
    "<tr><td>ab+</td><td>Opens a file for both appending and reading in binary format. The file pointer is at the end of the file if the file exists. The file opens in the append mode. If the file does not exist, it creates a new file for reading and writing.</td></tr>\n",
    "</tbody></table>"
   ]
  },
  {
   "cell_type": "markdown",
   "metadata": {},
   "source": [
    "<tbody><tr><th>Attribute</th><th>Description</th></tr>\n",
    "<tr><td>file.closed</td><td>Returns true if file is closed, false otherwise.</td></tr>\n",
    "<tr><td>file.mode</td><td>Returns access mode with which file was opened.</td></tr>\n",
    "<tr><td>file.name</td><td>Returns name of the file.</td></tr>\n",
    "<tr><td>file.softspace</td><td>Returns false if space explicitly required with print, true otherwise.</td></tr>\n",
    "</tbody>"
   ]
  },
  {
   "cell_type": "code",
   "execution_count": null,
   "metadata": {
    "collapsed": true
   },
   "outputs": [],
   "source": [
    "# Open a file\n",
    "fo = open(\"foo.txt\", \"wb\")\n",
    "print \"Name of the file: \", fo.name\n",
    "print \"Closed or not : \", fo.closed\n",
    "print \"Opening mode : \", fo.mode\n",
    "print \"Softspace flag : \", fo.softspace"
   ]
  },
  {
   "cell_type": "markdown",
   "metadata": {},
   "source": [
    "### closing\n",
    "```python\n",
    "file_object.close()\n",
    "```"
   ]
  },
  {
   "cell_type": "code",
   "execution_count": null,
   "metadata": {
    "collapsed": true
   },
   "outputs": [],
   "source": [
    "fo.close()"
   ]
  },
  {
   "cell_type": "markdown",
   "metadata": {},
   "source": [
    "### Writing"
   ]
  },
  {
   "cell_type": "code",
   "execution_count": null,
   "metadata": {
    "collapsed": true
   },
   "outputs": [],
   "source": [
    "# Open a file\n",
    "fo = open(\"foo.txt\", \"wb\")\n",
    "fo.write( \"Python is a great language.\\nYeah its great!!\\n\");\n",
    "\n",
    "# Close opend file\n",
    "fo.close()"
   ]
  },
  {
   "cell_type": "markdown",
   "metadata": {},
   "source": [
    "### Reading\n",
    "\n",
    "#### fo.read()\n",
    "#### fo.readlines()\n"
   ]
  },
  {
   "cell_type": "code",
   "execution_count": null,
   "metadata": {
    "collapsed": true
   },
   "outputs": [],
   "source": [
    "# Open a file\n",
    "fo = open(\"foo.txt\", \"r+\")\n",
    "str = fo.read(10);\n",
    "print \"Read String is : \", str\n",
    "# Close opend file\n",
    "fo.close()"
   ]
  },
  {
   "cell_type": "markdown",
   "metadata": {},
   "source": [
    "### File Positions\n",
    "\n",
    "#### tell\n",
    "\n",
    "#### seek(offset [, from])"
   ]
  },
  {
   "cell_type": "code",
   "execution_count": null,
   "metadata": {
    "collapsed": true
   },
   "outputs": [],
   "source": [
    "# Open a file\n",
    "fo = open(\"foo.txt\", \"r+\")\n",
    "str = fo.read(10);\n",
    "print \"Read String is : \", str\n",
    "\n",
    "# Check current position\n",
    "position = fo.tell();\n",
    "print \"Current file position : \", position\n",
    "\n",
    "# Reposition pointer at the beginning once again\n",
    "position = fo.seek(0, 0);\n",
    "str = fo.read(10);\n",
    "print \"Again read String is : \", str\n",
    "# Close opend file\n",
    "fo.close()"
   ]
  },
  {
   "cell_type": "markdown",
   "metadata": {},
   "source": [
    "### Delete\n",
    "os.remove(file_name)"
   ]
  },
  {
   "cell_type": "markdown",
   "metadata": {},
   "source": [
    "## StringIO - Read and write strings as files"
   ]
  },
  {
   "cell_type": "code",
   "execution_count": null,
   "metadata": {
    "collapsed": true
   },
   "outputs": [],
   "source": [
    "import StringIO\n",
    "\n",
    "output = StringIO.StringIO()\n",
    "output.write('First line.\\n')\n",
    "print >>output, 'Second line.'\n",
    "\n",
    "# Retrieve file contents -- this will be\n",
    "# 'First line.\\nSecond line.\\n'\n",
    "contents = output.getvalue()\n",
    "\n",
    "# Close object and discard memory buffer --\n",
    "# .getvalue() will now raise an exception.\n",
    "output.close()"
   ]
  }
 ],
 "metadata": {
  "kernelspec": {
   "display_name": "Python 2",
   "language": "python",
   "name": "python2"
  },
  "language_info": {
   "codemirror_mode": {
    "name": "ipython",
    "version": 2
   },
   "file_extension": ".py",
   "mimetype": "text/x-python",
   "name": "python",
   "nbconvert_exporter": "python",
   "pygments_lexer": "ipython2",
   "version": "2.7.11"
  }
 },
 "nbformat": 4,
 "nbformat_minor": 0
}
