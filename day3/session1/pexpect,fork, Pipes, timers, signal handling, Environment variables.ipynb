{
 "cells": [
  {
   "cell_type": "markdown",
   "metadata": {},
   "source": [
    "## PExpect\n",
    "Spawn a child application and control it as if a human were typing commands."
   ]
  },
  {
   "cell_type": "markdown",
   "metadata": {},
   "source": [
    "There are two main interfaces to the Pexpect system; these are the function, `run()` and the class, `spawn`.\n",
    "\n",
    "### ```run```\n",
    "\n",
    "* The run() function is simpler than spawn\n",
    "\n",
    "* good for quickly calling program. \n",
    "\n",
    "* run() function it executes a given program and then returns the output. \n",
    "\n",
    "* This is a handy replacement for os.system().\n"
   ]
  },
  {
   "cell_type": "code",
   "execution_count": 2,
   "metadata": {
    "collapsed": false
   },
   "outputs": [
    {
     "data": {
      "text/plain": [
       "'total 72\\r\\ndrwxrwxrwx  6 abdulmuneer  staff    204 Feb 26 16:26 \\x1b[30m\\x1b[43m.\\x1b[m\\x1b[m\\r\\ndrwxrwxrwx  7 abdulmuneer  staff    238 Feb 21 08:34 \\x1b[30m\\x1b[43m..\\x1b[m\\x1b[m\\r\\n-rw-r--r--@ 1 abdulmuneer  staff   6148 Feb 21 08:34 .DS_Store\\r\\ndrwxr-xr-x  4 abdulmuneer  staff    136 Feb 26 16:14 \\x1b[34m.ipynb_checkpoints\\x1b[m\\x1b[m\\r\\n-rw-r--r--  1 abdulmuneer  staff   2529 Feb 26 16:26 pexpect,fork, Pipes, timers, signal handling, Environment variables.ipynb\\r\\n-rwxrwxrwx  1 abdulmuneer  staff  20793 Feb 25 19:22 \\x1b[31mthreads_multiprocess_subprocess.ipynb\\x1b[m\\x1b[m\\r\\n'"
      ]
     },
     "execution_count": 2,
     "metadata": {},
     "output_type": "execute_result"
    }
   ],
   "source": [
    "import pexpect\n",
    "pexpect.run('ls -la')"
   ]
  },
  {
   "cell_type": "markdown",
   "metadata": {},
   "source": [
    "### ```spawn```\n",
    "\n",
    "* more powerful interface to the Pexpect system. \n",
    "* use this to spawn a child program then interact with it\n",
    "* sending input and expecting responses"
   ]
  },
  {
   "cell_type": "markdown",
   "metadata": {},
   "source": [
    "two important methods in Pexpect – \n",
    "#### - expect() \n",
    "#### - send() \n",
    "   (or sendline() which is like send() with a linefeed). \n",
    " \n",
    " The expect() method waits for the child application to return a given string. \n",
    " The string you specify is a regular expression, so you can match complicated patterns. \n",
    " \n",
    " The send() method writes a string to the child application. From the child’s point of view it looks just like someone typed the text from a terminal. "
   ]
  },
  {
   "cell_type": "markdown",
   "metadata": {},
   "source": [
    "After each call to expect() the ```before``` and ```after``` properties will be set to the text printed by child application. \n",
    "\n",
    "The before property will contain all text up to the expected string pattern. \n",
    "\n",
    "The after string will contain the text that was matched by the expected pattern. The match property is set to the re match object."
   ]
  },
  {
   "cell_type": "markdown",
   "metadata": {},
   "source": [
    "```python\n",
    "import pexpect\n",
    "child = pexpect.spawn ('ftp ftp.openbsd.org')\n",
    "child.expect ('Name .*: ')\n",
    "child.sendline ('anonymous')\n",
    "child.expect ('Password:')\n",
    "child.sendline ('noah@example.com')\n",
    "child.expect ('ftp> ')\n",
    "child.sendline ('ls /pub/OpenBSD/')\n",
    "child.expect ('ftp> ')\n",
    "print child.before   # Print the result of the ls command.\n",
    "child.interact()     # Give control of the child to the user.\n",
    "```"
   ]
  },
  {
   "cell_type": "markdown",
   "metadata": {},
   "source": [
    "#### Timeout\n",
    "```python\n",
    "child.expect('password:', timeout=120)\n",
    "```"
   ]
  },
  {
   "cell_type": "markdown",
   "metadata": {},
   "source": [
    "#### End of line:\n",
    "```python\n",
    "child.expect('\\r\\n')\n",
    "```\n",
    "\n",
    "Pexpect uses a Pseudo-TTY device to talk to the child application, \n",
    "so when the child app prints \"\\n\" you actually see \"\\r\\n\".\n",
    "\n",
    "Simple \"\\n\" is not sufficient"
   ]
  },
  {
   "cell_type": "markdown",
   "metadata": {},
   "source": [
    "#### careful with\n",
    "```python\n",
    "child.expect ('.*') \n",
    "child.expect ('.+')\n",
    "```"
   ]
  },
  {
   "cell_type": "markdown",
   "metadata": {},
   "source": [
    "### Expecting a list of possible outcomes\n",
    "\n",
    "```python\n",
    "child.expect('password:')\n",
    "child.sendline(my_secret_password)\n",
    "# We expect any of these three patterns...\n",
    "i = child.expect (['Permission denied', 'Terminal type', '[#\\$] '])\n",
    "if i==0:\n",
    "    print('Permission denied on host. Can\\'t login')\n",
    "    child.kill(0)\n",
    "elif i==1:\n",
    "    print('Login OK... need to send terminal type.')\n",
    "    child.sendline('vt100')\n",
    "    child.expect('[#\\$] ')\n",
    "elif i==2:\n",
    "    print('Login OK.')\n",
    "    print('Shell command prompt', child.after)\n",
    "    \n",
    "```\n"
   ]
  },
  {
   "cell_type": "markdown",
   "metadata": {},
   "source": [
    "Pexpect does NOT interpret shell meta characters such as redirect, pipe, or wild cards ( >, |, or * )\n",
    "\n",
    "If you *do* want to include those, you need to start a shell.\n",
    "e.g:\n",
    "```python\n",
    "child = pexpect.spawn('/bin/bash -c \"ls -l | grep LOG > logs.txt\"')\n",
    "child.expect(pexpect.EOF)\n",
    "```"
   ]
  },
  {
   "cell_type": "markdown",
   "metadata": {},
   "source": [
    "## Pipes\n",
    "\n",
    "pipes – Unix shell command pipeline\n",
    "\n",
    " Inputs and outputs of the commands can be chained together like the  | operator"
   ]
  },
  {
   "cell_type": "code",
   "execution_count": 5,
   "metadata": {
    "collapsed": false
   },
   "outputs": [
    {
     "name": "stdout",
     "output_type": "stream",
     "text": [
      "HELLO WORLD\r\n"
     ]
    }
   ],
   "source": [
    "! echo 'hello world' | tr a-z A-Z"
   ]
  },
  {
   "cell_type": "code",
   "execution_count": 33,
   "metadata": {
    "collapsed": false
   },
   "outputs": [],
   "source": [
    "import pipes\n",
    "pipe_template = pipes.Template()\n",
    "pipe_template.append('tr a-z A-Z', '--')\n",
    "tr = pipe_template.open('pipe_upper_output', 'w')\n",
    "tr.write('hello world')\n",
    "tr.close()"
   ]
  },
  {
   "cell_type": "code",
   "execution_count": 37,
   "metadata": {
    "collapsed": false
   },
   "outputs": [
    {
     "name": "stdout",
     "output_type": "stream",
     "text": [
      "HELLO WORLD\n"
     ]
    }
   ],
   "source": [
    "print open('pipe_upper_output').read()"
   ]
  },
  {
   "cell_type": "code",
   "execution_count": 45,
   "metadata": {
    "collapsed": false
   },
   "outputs": [
    {
     "name": "stdout",
     "output_type": "stream",
     "text": [
      "IN=pipe_upper_output; grep -n HELLO $IN >/var/folders/ty/bxzhn_yj77nffxvv4xf95kkc0000gn/T/tmpH8sQgH\n",
      "1:HELLO WORLD\n",
      "\n"
     ]
    }
   ],
   "source": [
    "#using file for input\n",
    "\n",
    "import pipes\n",
    "import tempfile\n",
    "\n",
    "p = pipes.Template()\n",
    "p.debug(True)\n",
    "p.append('grep -n HELLO $IN', 'f-')\n",
    "\n",
    "t = tempfile.NamedTemporaryFile('r')\n",
    "\n",
    "p.copy('pipe_upper_output', t.name)\n",
    "\n",
    "t.seek(0)\n",
    "print t.read()\n",
    "t.close()"
   ]
  },
  {
   "cell_type": "markdown",
   "metadata": {},
   "source": [
    "## Fork"
   ]
  },
  {
   "cell_type": "code",
   "execution_count": 47,
   "metadata": {
    "collapsed": false
   },
   "outputs": [
    {
     "name": "stdout",
     "output_type": "stream",
     "text": [
      "('Hello from parent', 950, 1243)\n",
      "d\n",
      "('Hello from parent', 950, 1244)\n",
      "('Hello from child', 1243)\n",
      "e\n",
      "('Hello from parent', 950, 1245)\n",
      "('Hello from child', 1244)\n",
      "d\n",
      "('Hello from parent', 950, 1247)\n",
      "('Hello from child', 1245)\n",
      "q\n",
      "('Hello from child', 1247)\n"
     ]
    }
   ],
   "source": [
    "\"forks child processes until you type 'q'\"\n",
    "import os\n",
    "def child():\n",
    "    print('Hello from child', os.getpid())\n",
    "    os._exit(0) # else goes back to parent loop\n",
    "\n",
    "def parent():\n",
    "    while True:\n",
    "        newpid = os.fork() \n",
    "        #os.fork() returns 0 inside the child process (this is standard for Unix systems) \n",
    "        # and the child PID inside the parent.\n",
    "        \n",
    "        if newpid == 0:\n",
    "            child()\n",
    "        else:\n",
    "            print('Hello from parent', os.getpid(), newpid)\n",
    "        if raw_input() == 'q': break\n",
    "\n",
    "parent()"
   ]
  },
  {
   "cell_type": "markdown",
   "metadata": {},
   "source": [
    "generally speaking, using os.fork() is a bad idea and needs to be done carefully at best.\n",
    "\n",
    "#### Any open files, sockets etc, get duplicated by os.fork(). This is not what a library expects. \n",
    "\n",
    "##### So in general,\n",
    "\n",
    "* Don't fork while any sockets or database connections are open\n",
    "* Don't fork while any files are open\n",
    "* Don't fork in a multithreaded process, because this makes it almost impossible to guarantee the above\n",
    "* Don't fork after you've initialised any nontrivial library that might internally use sockets, temp files, threads etc.\n",
    "\n",
    "And finally:\n",
    "\n",
    "* If you did fork, don't exit the process normally (including with an unhandled exception!). \n",
    "* Instead use either os._exit, or os.execl. \n",
    "* This ensures that the child process won't \"clean up\" resources that the parent is still using.\n",
    "\n",
    "The problem is, even assuming that all of those are true when you first write your code, using os.fork() puts these requirements (possibly invisibly) on all future maintenance-programmers."
   ]
  },
  {
   "cell_type": "markdown",
   "metadata": {},
   "source": [
    "## Scheduling\n",
    "\n",
    "* implements a generic event scheduler for running tasks at specific times. \n",
    "* The scheduler class uses a time function to learn the current time, \n",
    "* and a delay function to wait for a specific period of time. "
   ]
  },
  {
   "cell_type": "code",
   "execution_count": 48,
   "metadata": {
    "collapsed": false
   },
   "outputs": [
    {
     "name": "stdout",
     "output_type": "stream",
     "text": [
      "START: 1456500500.4\n",
      "EVENT: 1456500502.4 first\n",
      "EVENT: 1456500503.4 second\n"
     ]
    }
   ],
   "source": [
    "import sched\n",
    "import time\n",
    "\n",
    "scheduler = sched.scheduler(time.time, time.sleep)\n",
    "\n",
    "def print_event(name):\n",
    "    print 'EVENT:', time.time(), name\n",
    "\n",
    "print 'START:', time.time()\n",
    "scheduler.enter(2, 1, print_event, ('first',))\n",
    "scheduler.enter(3, 1, print_event, ('second',))\n",
    "\n",
    "scheduler.run()"
   ]
  },
  {
   "cell_type": "markdown",
   "metadata": {},
   "source": [
    "## Signals\n",
    "\n",
    "Used to receive notification of asynchronous system events\n",
    "\n",
    "They can be generated by the system itself, or sent from one process to another. Since signals interrupt the regular flow of your program, it is possible that some operations (especially I/O) may produce error if a signal is received in the middle.\n",
    "\n",
    "Signals are identified by integers and are defined in the operating system C headers. Python exposes the signals appropriate for the platform as symbols in the signal module.\n",
    "\n"
   ]
  },
  {
   "cell_type": "markdown",
   "metadata": {},
   "source": [
    "#### receiving signals:"
   ]
  },
  {
   "cell_type": "code",
   "execution_count": null,
   "metadata": {
    "collapsed": false
   },
   "outputs": [],
   "source": [
    "import signal\n",
    "import os\n",
    "import time\n",
    "\n",
    "def receive_signal(signum, stack):\n",
    "    print 'Received:', signum\n",
    "\n",
    "signal.signal(signal.SIGUSR1, receive_signal)\n",
    "signal.signal(signal.SIGUSR2, receive_signal)\n",
    "\n",
    "print 'My PID is:', os.getpid()\n",
    "\n",
    "while True:\n",
    "    print 'Waiting...'\n",
    "    time.sleep(3)\n",
    "    \n",
    "#kill -USR1 $pid, kill -USR2 $pid, and kill -INT $pid"
   ]
  },
  {
   "cell_type": "markdown",
   "metadata": {},
   "source": [
    "#### sending signals\n",
    "```python\n",
    "os.kill(pid, signal.SIGUSR1)\n",
    "```"
   ]
  },
  {
   "cell_type": "markdown",
   "metadata": {},
   "source": [
    "#### Alarms\n",
    "Alarms are a special sort of signal, where your program asks the OS to notify it after some period of time has elapsed.\n",
    "\n"
   ]
  },
  {
   "cell_type": "code",
   "execution_count": 57,
   "metadata": {
    "collapsed": false
   },
   "outputs": [
    {
     "name": "stdout",
     "output_type": "stream",
     "text": [
      "Before: Fri Feb 26 21:30:30 2016\n",
      "Alarm : Fri Feb 26 21:30:32 2016\n",
      "After : Fri Feb 26 21:30:32 2016\n"
     ]
    }
   ],
   "source": [
    "import signal\n",
    "import time\n",
    "\n",
    "def receive_alarm(signum, stack):\n",
    "    print 'Alarm :', time.ctime()\n",
    "\n",
    "# Call receive_alarm in 2 seconds\n",
    "signal.signal(signal.SIGALRM, receive_alarm)\n",
    "signal.alarm(2)\n",
    "\n",
    "print 'Before:', time.ctime()\n",
    "time.sleep(5)\n",
    "print 'After :', time.ctime()"
   ]
  },
  {
   "cell_type": "markdown",
   "metadata": {},
   "source": [
    "#### getsignal()\n",
    "To see what signal handlers are registered for a signal, use getsignal(). \n",
    "\n",
    "* Pass the signal number as argument. \n",
    "* The return value is the registered handler, \n",
    "* or one of the special values:\n",
    "\n",
    "  - signal.SIG_IGN (if the signal is being ignored), \n",
    "  - signal.SIG_DFL (if the default behavior is being used), \n",
    "  - None (if the existing signal handler was registered from C, rather than Python)."
   ]
  },
  {
   "cell_type": "code",
   "execution_count": 59,
   "metadata": {
    "collapsed": false
   },
   "outputs": [
    {
     "name": "stdout",
     "output_type": "stream",
     "text": [
      "SIGHUP     ( 1): SIG_IGN\n",
      "SIGINT     ( 2): <built-in function default_int_handler>\n",
      "SIGQUIT    ( 3): SIG_DFL\n",
      "SIGILL     ( 4): SIG_DFL\n",
      "SIGTRAP    ( 5): SIG_DFL\n",
      "SIGIOT     ( 6): SIG_DFL\n",
      "SIGEMT     ( 7): SIG_DFL\n",
      "SIGFPE     ( 8): SIG_DFL\n",
      "SIGKILL    ( 9): None\n",
      "SIGBUS     (10): SIG_DFL\n",
      "SIGSEGV    (11): SIG_DFL\n",
      "SIGSYS     (12): SIG_DFL\n",
      "SIGPIPE    (13): SIG_IGN\n",
      "SIGALRM    (14): <function alarm_received at 0x103f27b18>\n",
      "SIGTERM    (15): SIG_DFL\n",
      "SIGURG     (16): SIG_DFL\n",
      "SIGSTOP    (17): None\n",
      "SIGTSTP    (18): SIG_DFL\n",
      "SIGCONT    (19): SIG_DFL\n",
      "SIGCHLD    (20): SIG_DFL\n",
      "SIGTTIN    (21): SIG_DFL\n",
      "SIGTTOU    (22): SIG_DFL\n",
      "SIGIO      (23): SIG_DFL\n",
      "SIGXCPU    (24): SIG_DFL\n",
      "SIGXFSZ    (25): SIG_IGN\n",
      "SIGVTALRM  (26): SIG_DFL\n",
      "SIGPROF    (27): SIG_DFL\n",
      "SIGWINCH   (28): SIG_DFL\n",
      "SIGINFO    (29): SIG_DFL\n",
      "SIGUSR1    (30): <function receive_signal at 0x103ee4de8>\n",
      "SIGUSR2    (31): <function receive_signal at 0x103ee4de8>\n"
     ]
    }
   ],
   "source": [
    "import signal\n",
    "\n",
    "def alarm_received(n, stack):\n",
    "    return\n",
    "\n",
    "signal.signal(signal.SIGALRM, alarm_received)\n",
    "\n",
    "signals_to_names = {}\n",
    "for n in dir(signal):\n",
    "    if n.startswith('SIG') and not n.startswith('SIG_'):\n",
    "        signals_to_names[getattr(signal, n)] = n\n",
    "\n",
    "for s, name in sorted(signals_to_names.items()):\n",
    "    handler = signal.getsignal(s)\n",
    "    if handler is signal.SIG_DFL:\n",
    "        handler = 'SIG_DFL'\n",
    "    elif handler is signal.SIG_IGN:\n",
    "        handler = 'SIG_IGN'\n",
    "    print '%-10s (%2d):' % (name, s), handler"
   ]
  },
  {
   "cell_type": "markdown",
   "metadata": {},
   "source": [
    "## Environment variables"
   ]
  },
  {
   "cell_type": "code",
   "execution_count": null,
   "metadata": {
    "collapsed": false
   },
   "outputs": [],
   "source": [
    "import os\n",
    "os.environ\n"
   ]
  },
  {
   "cell_type": "code",
   "execution_count": null,
   "metadata": {
    "collapsed": false
   },
   "outputs": [],
   "source": [
    "os.environ.get('PATH')\n"
   ]
  }
 ],
 "metadata": {
  "kernelspec": {
   "display_name": "Python 2",
   "language": "python",
   "name": "python2"
  },
  "language_info": {
   "codemirror_mode": {
    "name": "ipython",
    "version": 2
   },
   "file_extension": ".py",
   "mimetype": "text/x-python",
   "name": "python",
   "nbconvert_exporter": "python",
   "pygments_lexer": "ipython2",
   "version": "2.7.11"
  }
 },
 "nbformat": 4,
 "nbformat_minor": 0
}
