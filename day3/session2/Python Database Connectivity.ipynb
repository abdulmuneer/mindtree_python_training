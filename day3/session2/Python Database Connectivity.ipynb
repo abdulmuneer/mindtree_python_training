{
 "cells": [
  {
   "cell_type": "code",
   "execution_count": null,
   "metadata": {
    "collapsed": false
   },
   "outputs": [],
   "source": [
    "import MySQLdb\n",
    "\n",
    "# Open database connection\n",
    "db = MySQLdb.connect(\"localhost\",\"root\",\"root\",\"TEST\" )\n",
    "\n",
    "# prepare a cursor object using cursor() method\n",
    "cursor = db.cursor()\n",
    "\n",
    "# execute SQL query using execute() method.\n",
    "cursor.execute(\"SELECT VERSION()\")\n",
    "\n",
    "# Fetch a single row using fetchone() method.\n",
    "data = cursor.fetchone()\n",
    "\n",
    "print \"Database version : %s \" % data\n",
    "\n",
    "# disconnect from server\n",
    "db.close()"
   ]
  },
  {
   "cell_type": "markdown",
   "metadata": {},
   "source": [
    "### Creating Database Table"
   ]
  },
  {
   "cell_type": "code",
   "execution_count": null,
   "metadata": {
    "collapsed": true
   },
   "outputs": [],
   "source": [
    "import MySQLdb\n",
    "\n",
    "# Open database connection\n",
    "db = MySQLdb.connect(\"localhost\",\"root\",\"root\",\"TEST\" )\n",
    "\n",
    "# prepare a cursor object using cursor() method\n",
    "cursor = db.cursor()\n",
    "\n",
    "# Drop table if it already exist using execute() method.\n",
    "cursor.execute(\"DROP TABLE IF EXISTS EMPLOYEE\")\n",
    "\n",
    "# Create table as per requirement\n",
    "sql = \"\"\"CREATE TABLE EMPLOYEE (\n",
    "         FIRST_NAME  CHAR(20) NOT NULL,\n",
    "         LAST_NAME  CHAR(20),\n",
    "         AGE INT,  \n",
    "         SEX CHAR(1),\n",
    "         INCOME FLOAT )\"\"\"\n",
    "\n",
    "cursor.execute(sql)\n",
    "\n",
    "# disconnect from server\n",
    "db.close()"
   ]
  },
  {
   "cell_type": "code",
   "execution_count": null,
   "metadata": {
    "collapsed": true
   },
   "outputs": [],
   "source": []
  },
  {
   "cell_type": "markdown",
   "metadata": {},
   "source": [
    "### INSERT Operation"
   ]
  },
  {
   "cell_type": "code",
   "execution_count": null,
   "metadata": {
    "collapsed": true
   },
   "outputs": [],
   "source": [
    "import MySQLdb\n",
    "\n",
    "# Open database connection\n",
    "db = MySQLdb.connect(\"localhost\",\"root\",\"root\",\"TEST\" )\n",
    "\n",
    "# prepare a cursor object using cursor() method\n",
    "cursor = db.cursor()\n",
    "\n",
    "# Prepare SQL query to INSERT a record into the database.\n",
    "sql = \"INSERT INTO EMPLOYEE(FIRST_NAME, \\\n",
    "       LAST_NAME, AGE, SEX, INCOME) \\\n",
    "       VALUES ('%s', '%s', '%d', '%c', '%d' )\" % \\\n",
    "       ('Mac', 'Mohan', 20, 'M', 2000)\n",
    "try:\n",
    "   # Execute the SQL command\n",
    "   cursor.execute(sql)\n",
    "   # Commit your changes in the database\n",
    "   db.commit()\n",
    "except:\n",
    "   # Rollback in case there is any error\n",
    "   db.rollback()\n",
    "\n",
    "# disconnect from server\n",
    "db.close()"
   ]
  },
  {
   "cell_type": "code",
   "execution_count": null,
   "metadata": {
    "collapsed": true
   },
   "outputs": [],
   "source": []
  },
  {
   "cell_type": "markdown",
   "metadata": {},
   "source": [
    "## READ Operation\n",
    "READ Operation on any database means to fetch some useful information from the database.\n",
    "\n",
    "Once our database connection is established, you are ready to make a query into this database. You can use either fetchone() method to fetch single record or fetchall() method to fetech multiple values from a database table.\n",
    "\n",
    "    fetchone(): It fetches the next row of a query result set. A result set is an object that is returned when a cursor object is used to query a table.\n",
    "\n",
    "    fetchall(): It fetches all the rows in a result set. If some rows have already been extracted from the result set, then it retrieves the remaining rows from the result set.\n",
    "\n",
    "    rowcount: This is a read-only attribute and returns the number of rows that were affected by an execute() method.\n"
   ]
  },
  {
   "cell_type": "code",
   "execution_count": null,
   "metadata": {
    "collapsed": true
   },
   "outputs": [],
   "source": [
    "import MySQLdb\n",
    "\n",
    "# Open database connection\n",
    "db = MySQLdb.connect(\"localhost\",\"root\",\"root\",\"TEST\" )\n",
    "\n",
    "# prepare a cursor object using cursor() method\n",
    "cursor = db.cursor()\n",
    "\n",
    "# Prepare SQL query to INSERT a record into the database.\n",
    "sql = \"SELECT * FROM EMPLOYEE \\\n",
    "       WHERE INCOME > '%d'\" % (1000)\n",
    "try:\n",
    "   # Execute the SQL command\n",
    "   cursor.execute(sql)\n",
    "   # Fetch all the rows in a list of lists.\n",
    "   results = cursor.fetchall()\n",
    "   for row in results:\n",
    "      fname = row[0]\n",
    "      lname = row[1]\n",
    "      age = row[2]\n",
    "      sex = row[3]\n",
    "      income = row[4]\n",
    "      # Now print fetched result\n",
    "      print \"fname=%s,lname=%s,age=%d,sex=%s,income=%d\" % \\\n",
    "             (fname, lname, age, sex, income )\n",
    "except:\n",
    "   print \"Error: unable to fecth data\"\n",
    "\n",
    "# disconnect from server\n",
    "db.close()"
   ]
  },
  {
   "cell_type": "markdown",
   "metadata": {},
   "source": [
    "## Performing Transactions\n",
    "\n",
    "Transactions are a mechanism that ensures data consistency. Transactions have the following four properties:\n",
    "\n",
    "    Atomicity: Either a transaction completes or nothing happens at all.\n",
    "\n",
    "    Consistency: A transaction must start in a consistent state and leave the system in a consistent state.\n",
    "\n",
    "    Isolation: Intermediate results of a transaction are not visible outside the current transaction.\n",
    "\n",
    "    Durability: Once a transaction was committed, the effects are persistent, even after a system failure.\n"
   ]
  },
  {
   "cell_type": "code",
   "execution_count": null,
   "metadata": {
    "collapsed": true
   },
   "outputs": [],
   "source": [
    "# Prepare SQL query to DELETE required records\n",
    "sql = \"DELETE FROM EMPLOYEE WHERE AGE > '%d'\" % (20)\n",
    "try:\n",
    "   # Execute the SQL command\n",
    "   cursor.execute(sql)\n",
    "   # Commit your changes in the database\n",
    "   db.commit()\n",
    "except:\n",
    "   # Rollback in case there is any error\n",
    "   db.rollback()"
   ]
  },
  {
   "cell_type": "markdown",
   "metadata": {},
   "source": [
    "<h2>Handling Errors</h2>\n",
    "<p>There are many sources of errors. A few examples are a syntax error in an executed SQL statement, a connection failure, or calling the fetch method for an already canceled or finished statement handle.</p>\n",
    "<p>The DB API defines a number of errors that must exist in each database module. The following table lists these exceptions.</p>\n",
    "<table class=\"table table-bordered\">\n",
    "<tbody><tr>\n",
    "<th style=\"width:15%\">Exception</th><th>Description</th>\n",
    "</tr>\n",
    "<tr><td>Warning</td><td>Used for non-fatal issues. Must subclass StandardError.</td></tr>\n",
    "<tr><td>Error</td><td>Base class for errors. Must subclass StandardError.</td></tr>\n",
    "<tr><td>InterfaceError</td><td>Used for errors in the database module, not the database itself. Must subclass Error.</td></tr>\n",
    "<tr><td>DatabaseError</td><td>Used for errors in the database. Must subclass Error.</td></tr>\n",
    "<tr><td>DataError</td><td>Subclass of DatabaseError that refers to errors in the data.</td></tr>\n",
    "<tr><td>OperationalError</td><td>Subclass of DatabaseError that refers to errors such as the loss of a connection to the database. These errors are generally outside of the control of the Python scripter.</td></tr>\n",
    "<tr><td>IntegrityError</td><td>Subclass of DatabaseError for situations that would damage the relational integrity, such as uniqueness constraints or foreign keys.</td></tr>\n",
    "<tr><td>InternalError</td><td>Subclass of DatabaseError that refers to errors internal to the database module, such as a cursor no longer being active.</td></tr>\n",
    "<tr><td>ProgrammingError</td><td>Subclass of DatabaseError that refers to errors such as a bad table name and other things that can safely be blamed on you.</td></tr>\n",
    "<tr><td>NotSupportedError</td><td>Subclass of DatabaseError that refers to trying to call unsupported functionality.</td></tr>\n",
    "</tbody></table>"
   ]
  },
  {
   "cell_type": "code",
   "execution_count": null,
   "metadata": {
    "collapsed": true
   },
   "outputs": [],
   "source": []
  }
 ],
 "metadata": {
  "kernelspec": {
   "display_name": "Python 2",
   "language": "python",
   "name": "python2"
  },
  "language_info": {
   "codemirror_mode": {
    "name": "ipython",
    "version": 2
   },
   "file_extension": ".py",
   "mimetype": "text/x-python",
   "name": "python",
   "nbconvert_exporter": "python",
   "pygments_lexer": "ipython2",
   "version": "2.7.11"
  }
 },
 "nbformat": 4,
 "nbformat_minor": 0
}
