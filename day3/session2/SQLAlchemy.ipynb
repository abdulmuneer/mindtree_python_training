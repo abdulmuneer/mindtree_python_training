{
 "cells": [
  {
   "cell_type": "code",
   "execution_count": null,
   "metadata": {
    "collapsed": true
   },
   "outputs": [],
   "source": [
    "#sqlalchemy_declarative.py\n",
    "\n",
    "import os\n",
    "import sys\n",
    "from sqlalchemy import Column, ForeignKey, Integer, String\n",
    "from sqlalchemy.ext.declarative import declarative_base\n",
    "from sqlalchemy.orm import relationship\n",
    "from sqlalchemy import create_engine\n",
    " \n",
    "Base = declarative_base()\n",
    " \n",
    "class Person(Base):\n",
    "    __tablename__ = 'person'\n",
    "    # Here we define columns for the table person\n",
    "    # Notice that each column is also a normal Python instance attribute.\n",
    "    id = Column(Integer, primary_key=True)\n",
    "    name = Column(String(250), nullable=False)\n",
    " \n",
    "class Address(Base):\n",
    "    __tablename__ = 'address'\n",
    "    # Here we define columns for the table address.\n",
    "    # Notice that each column is also a normal Python instance attribute.\n",
    "    id = Column(Integer, primary_key=True)\n",
    "    street_name = Column(String(250))\n",
    "    street_number = Column(String(250))\n",
    "    post_code = Column(String(250), nullable=False)\n",
    "    person_id = Column(Integer, ForeignKey('person.id'))\n",
    "    person = relationship(Person)\n",
    " \n",
    "# Create an engine that stores data in the local directory's\n",
    "# sqlalchemy_example.db file.\n",
    "engine = create_engine('sqlite:///sqlalchemy_example.db')\n",
    " \n",
    "# Create all tables in the engine. This is equivalent to \"Create Table\"\n",
    "# statements in raw SQL.\n",
    "Base.metadata.create_all(engine)"
   ]
  },
  {
   "cell_type": "code",
   "execution_count": null,
   "metadata": {
    "collapsed": true
   },
   "outputs": [],
   "source": [
    "#sqlalchemy_insert.py \n",
    "\n",
    "from sqlalchemy import create_engine\n",
    "from sqlalchemy.orm import sessionmaker\n",
    " \n",
    "from sqlalchemy_declarative import Address, Base, Person\n",
    " \n",
    "engine = create_engine('sqlite:///sqlalchemy_example.db')\n",
    "# Bind the engine to the metadata of the Base class so that the\n",
    "# declaratives can be accessed through a DBSession instance\n",
    "Base.metadata.bind = engine\n",
    " \n",
    "DBSession = sessionmaker(bind=engine)\n",
    "# A DBSession() instance establishes all conversations with the database\n",
    "# and represents a \"staging zone\" for all the objects loaded into the\n",
    "# database session object. Any change made against the objects in the\n",
    "# session won't be persisted into the database until you call\n",
    "# session.commit(). If you're not happy about the changes, you can\n",
    "# revert all of them back to the last commit by calling\n",
    "# session.rollback()\n",
    "session = DBSession()\n",
    " \n",
    "# Insert a Person in the person table\n",
    "new_person = Person(name='new person')\n",
    "session.add(new_person)\n",
    "session.commit()\n",
    " \n",
    "# Insert an Address in the address table\n",
    "new_address = Address(post_code='00000', person=new_person)\n",
    "session.add(new_address)\n",
    "session.commit()"
   ]
  },
  {
   "cell_type": "markdown",
   "metadata": {},
   "source": [
    "```python\n",
    ">>> from sqlalchemy_declarative import Person, Base, Address\n",
    ">>> from sqlalchemy import create_engine\n",
    ">>> engine = create_engine('sqlite:///sqlalchemy_example.db')\n",
    ">>> Base.metadata.bind = engine\n",
    ">>> from sqlalchemy.orm import sessionmaker\n",
    ">>> DBSession = sessionmaker()\n",
    ">>> DBSession.bind = engine\n",
    ">>> session = DBSession()\n",
    ">>> # Make a query to find all Persons in the database\n",
    ">>> session.query(Person).all()\n",
    "[<sqlalchemy_declarative.Person object at 0x2ee3a10>]\n",
    ">>>\n",
    ">>> # Return the first Person from all Persons in the database\n",
    ">>> person = session.query(Person).first()\n",
    ">>> person.name\n",
    "u'new person'\n",
    ">>>\n",
    ">>> # Find all Address whose person field is pointing to the person object\n",
    ">>> session.query(Address).filter(Address.person == person).all()\n",
    "[<sqlalchemy_declarative.Address object at 0x2ee3cd0>]\n",
    ">>>\n",
    ">>> # Retrieve one Address whose person field is point to the person object\n",
    ">>> session.query(Address).filter(Address.person == person).one()\n",
    "<sqlalchemy_declarative.Address object at 0x2ee3cd0>\n",
    ">>> address = session.query(Address).filter(Address.person == person).one()\n",
    ">>> address.post_code\n",
    "u'00000'\n",
    "```"
   ]
  }
 ],
 "metadata": {
  "kernelspec": {
   "display_name": "Python 2",
   "language": "python",
   "name": "python2"
  },
  "language_info": {
   "codemirror_mode": {
    "name": "ipython",
    "version": 2
   },
   "file_extension": ".py",
   "mimetype": "text/x-python",
   "name": "python",
   "nbconvert_exporter": "python",
   "pygments_lexer": "ipython2",
   "version": "2.7.11"
  }
 },
 "nbformat": 4,
 "nbformat_minor": 0
}
