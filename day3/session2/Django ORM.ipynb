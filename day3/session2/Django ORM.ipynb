{
 "cells": [
  {
   "cell_type": "markdown",
   "metadata": {},
   "source": [
    "<div class=\"section\" id=\"s-module-django.db.models\">\n",
    "<span id=\"s-models\"></span><span id=\"module-django.db.models\"></span><span id=\"models\"></span><h1>Models<a class=\"headerlink\" href=\"#module-django.db.models\" title=\"Permalink to this headline\">¶</a></h1>\n",
    "<p>A model is the single, definitive source of information about your data. It\n",
    "contains the essential fields and behaviors of the data you’re storing.\n",
    "Generally, each model maps to a single database table.</p>\n",
    "<p>The basics:</p>\n",
    "<ul class=\"simple\">\n",
    "<li>Each model is a Python class that subclasses\n",
    "<a class=\"reference internal\" href=\"../../../ref/models/instances/#django.db.models.Model\" title=\"django.db.models.Model\"><code class=\"xref py py-class docutils literal\"><span class=\"pre\">django.db.models.Model</span></code></a>.</li>\n",
    "<li>Each attribute of the model represents a database field.</li>\n",
    "<li>With all of this, Django gives you an automatically-generated\n",
    "database-access API; see <a class=\"reference internal\" href=\"../queries/\"><em>Making queries</em></a>.</li>\n",
    "</ul>\n",
    "<div class=\"section\" id=\"s-quick-example\">\n",
    "<span id=\"quick-example\"></span><h2>Quick example<a class=\"headerlink\" href=\"#quick-example\" title=\"Permalink to this headline\">¶</a></h2>\n",
    "<p>This example model defines a <code class=\"docutils literal\"><span class=\"pre\">Person</span></code>, which has a <code class=\"docutils literal\"><span class=\"pre\">first_name</span></code> and\n",
    "<code class=\"docutils literal\"><span class=\"pre\">last_name</span></code>:</p>"
   ]
  },
  {
   "cell_type": "markdown",
   "metadata": {},
   "source": [
    "```python\n",
    "from django.db import models\n",
    "\n",
    "class Person(models.Model):\n",
    "    first_name = models.CharField(max_length=30)\n",
    "    last_name = models.CharField(max_length=30)\n",
    "\n",
    "```"
   ]
  },
  {
   "cell_type": "markdown",
   "metadata": {},
   "source": [
    "The above Person model would create a database table like this:\n",
    "\n",
    "```sql\n",
    "CREATE TABLE myapp_person (\n",
    "    \"id\" serial NOT NULL PRIMARY KEY,\n",
    "    \"first_name\" varchar(30) NOT NULL,\n",
    "    \"last_name\" varchar(30) NOT NULL\n",
    ");\n",
    "```\n",
    "\n",
    "\n",
    "\n",
    "The name of the table, myapp_person, is automatically derived from model metadata.\n",
    "An id field is added automatically.\n",
    "Django uses SQL tailored to the database backend specified in your settings file.\n"
   ]
  },
  {
   "cell_type": "markdown",
   "metadata": {},
   "source": [
    "### Fields"
   ]
  },
  {
   "cell_type": "code",
   "execution_count": null,
   "metadata": {
    "collapsed": true
   },
   "outputs": [],
   "source": [
    "from django.db import models\n",
    "\n",
    "class Musician(models.Model):\n",
    "    first_name = models.CharField(max_length=50)\n",
    "    last_name = models.CharField(max_length=50)\n",
    "    instrument = models.CharField(max_length=100)\n",
    "\n",
    "class Album(models.Model):\n",
    "    artist = models.ForeignKey(Musician, on_delete=models.CASCADE)\n",
    "    name = models.CharField(max_length=100)\n",
    "    release_date = models.DateField()\n",
    "    num_stars = models.IntegerField()"
   ]
  },
  {
   "cell_type": "markdown",
   "metadata": {},
   "source": [
    "## Working with Models\n"
   ]
  },
  {
   "cell_type": "code",
   "execution_count": null,
   "metadata": {
    "collapsed": true
   },
   "outputs": [],
   "source": [
    "from django.db import models\n",
    "\n",
    "class Address(models.Model):\n",
    "\n",
    "    address = models.CharField(max_length=255, blank=True)\n",
    "    city = models.CharField(max_length=150, blank=True)\n",
    "    state = models.CharField(max_length=2, blank=True)\n",
    "    zip = models.CharField(max_length=15, blank=True)\n",
    "\n",
    "class Contact(models.Model):\n",
    "\n",
    "    first_name = models.CharField(max_length=255, blank=True)\n",
    "    last_name = models.CharField(max_length=255, blank=True)\n",
    "\n",
    "    birthdate = models.DateField(auto_now_add=True)\n",
    "    phone = models.CharField(max_length=25, blank=True)\n",
    "    email = models.EMailField(blank=True)\n",
    "\n",
    "    address = models.ForeignKey(Address, null=True)\n",
    "    \n",
    "    \n",
    "nathan = Contact()\n",
    "nathan.first_name = 'Nathan'\n",
    "nathan.last_name = 'Yergler'\n",
    "nathan.save()"
   ]
  },
  {
   "cell_type": "markdown",
   "metadata": {},
   "source": [
    "** Starting in Django 1.5, calling .save() only updates the fields that have changed. **"
   ]
  },
  {
   "cell_type": "markdown",
   "metadata": {},
   "source": [
    "## Managers\n",
    "\n",
    "* Models get a manager injected as .objects\n",
    "* Managers allow you to operate over collections of your model\n",
    "\n",
    "```python\n",
    "Contact.objects.filter(last_name__iexact='yergler')\n",
    "Contact.objects.filter(address__state='OH')\n",
    "```"
   ]
  },
  {
   "cell_type": "markdown",
   "metadata": {},
   "source": [
    "## Custom Mnagers\n",
    "\n",
    "```python\n",
    "class ContactManager(models.Manager):\n",
    "\n",
    "    def with_email(self):\n",
    "        return self.filter(email__ne = '')\n",
    "\n",
    "class Contact(models.Model):\n",
    "    ...\n",
    "\n",
    "    objects = ContactManager()\n",
    "```\n",
    "\n",
    "```python\n",
    "contacts.objects.with_email().filter(email__endswith='osu.edu')\n",
    "```"
   ]
  },
  {
   "cell_type": "markdown",
   "metadata": {},
   "source": [
    "## Querying Your Data\n",
    "```python\n",
    "Contact.objects.filter(state='OH').filter(email__ne='')\n",
    "```\n",
    "\n",
    "* Query Sets are chainable\n",
    "* Multiple filters are collapsed into SQL “and” conditions"
   ]
  },
  {
   "cell_type": "markdown",
   "metadata": {},
   "source": [
    "#### OR conditions in Queries\n",
    "\n",
    "If you need to do “or” conditions, you can use Q objects\n",
    "\n",
    "```python\n",
    "from django.db.models import Q\n",
    "\n",
    "Contact.objects.filter(\n",
    "    Q(state='OH') | Q(email__endswith='osu.edu')\n",
    ")\n",
    "```\n",
    "\n"
   ]
  },
  {
   "cell_type": "markdown",
   "metadata": {},
   "source": [
    "## ORM Performance\n",
    "#### Instantiation is Expensive\n",
    "\n",
    "* QuerySets are lazy, but have non-trivial overhead when evaluated\n",
    "* If a query returns 1000s of rows, users will notice this\n",
    "* `.values()` and `.values_list()` avoid instantiation\n",
    "\n",
    "\n",
    "#### Bad:\n",
    "\n",
    "```python\n",
    "for user in Users.objects.filter(is_active=True):\n",
    "    send_email(user.email)\n",
    "```\n",
    "\n",
    "\n",
    "#### Good:\n",
    "\n",
    "```python\n",
    "user_emails = Users.objects.\\\n",
    "    filter(is_active=True).\\\n",
    "    values_list('email', flat=True)\n",
    "\n",
    "for email in user_emails:\n",
    "    send_email(email)\n",
    "```\n"
   ]
  },
  {
   "cell_type": "markdown",
   "metadata": {},
   "source": [
    "#### Traversing Relationships\n",
    "\n",
    "\n",
    "* Traversing foreign keys can incur additional queries\n",
    "* select_related queries for foreign keys in the initial query\n",
    "\n",
    "```python\n",
    "Contact.objects.\\\n",
    "    select_related('address').\\\n",
    "    filter(last_name = 'Yergler')\n",
    "```\n",
    "\n"
   ]
  },
  {
   "cell_type": "markdown",
   "metadata": {},
   "source": [
    "#### Query Performance\n",
    "\n",
    "* If possible, don’t chain more than one filter\n",
    "\n",
    "Because querysetsmaintain a lot of state and they get cloned during chaining"
   ]
  },
  {
   "cell_type": "markdown",
   "metadata": {},
   "source": [
    "#### Use Raw SQL\n",
    "\n",
    "* Sometimes the best option.\n",
    "```python\n",
    "Contact.objects.raw('SELECT * FROM contacts WHERE last_name = %s', [lname])\n",
    "```\n",
    "\n",
    "* Of course, DO NOT use string formatting in raw() calls"
   ]
  },
  {
   "cell_type": "markdown",
   "metadata": {},
   "source": [
    "## Many-to-many relationships"
   ]
  },
  {
   "cell_type": "code",
   "execution_count": null,
   "metadata": {
    "collapsed": true
   },
   "outputs": [],
   "source": [
    "from django.db import models\n",
    "\n",
    "class Publication(models.Model):\n",
    "    title = models.CharField(max_length=30)\n",
    "\n",
    "    def __str__(self):              # __unicode__ on Python 2\n",
    "        return self.title\n",
    "\n",
    "    class Meta:\n",
    "        ordering = ('title',)\n",
    "\n",
    "class Article(models.Model):\n",
    "    headline = models.CharField(max_length=100)\n",
    "    publications = models.ManyToManyField(Publication) # ManyToManyField\n",
    "\n",
    "    def __str__(self):              # __unicode__ on Python 2\n",
    "        return self.headline\n",
    "\n",
    "    class Meta:\n",
    "        ordering = ('headline',)"
   ]
  },
  {
   "cell_type": "markdown",
   "metadata": {},
   "source": [
    "#### Create a couple of Publications:\n",
    "\n",
    "```python\n",
    ">>> p1 = Publication(title='The Python Journal')\n",
    ">>> p1.save()\n",
    ">>> p2 = Publication(title='Science News')\n",
    ">>> p2.save()\n",
    ">>> p3 = Publication(title='Science Weekly')\n",
    ">>> p3.save()\n",
    "```\n",
    "\n"
   ]
  },
  {
   "cell_type": "markdown",
   "metadata": {},
   "source": [
    "#### Create an article \n",
    "\n",
    "```python\n",
    ">>> a1 = Article(headline='Django lets you build Web apps easily')\n",
    ">>> a1.save() # cannot associate without saving. Why?\n",
    "```"
   ]
  },
  {
   "cell_type": "markdown",
   "metadata": {},
   "source": [
    "```python\n",
    ">>> a1.publications.add(p1)\n",
    ">>> a2 = Article(headline='NASA uses Python')\n",
    ">>> a2.save()\n",
    ">>> a2.publications.add(p1, p2)\n",
    ">>> a2.publications.add(p3)\n",
    "```"
   ]
  },
  {
   "cell_type": "markdown",
   "metadata": {},
   "source": [
    "Many-to-many relationships can be queried using lookups across relationships:\n",
    "```python\n",
    ">>> Article.objects.filter(publications__id=1)\n",
    "[<Article: Django lets you build Web apps easily>, <Article: NASA uses Python>]\n",
    ">>> Article.objects.filter(publications__pk=1)\n",
    "[<Article: Django lets you build Web apps easily>, <Article: NASA uses Python>]\n",
    ">>> Article.objects.filter(publications=1)\n",
    "[<Article: Django lets you build Web apps easily>, <Article: NASA uses Python>]\n",
    ">>> Article.objects.filter(publications=p1)\n",
    "[<Article: Django lets you build Web apps easily>, <Article: NASA uses Python>]\n",
    "\n",
    ">>> Article.objects.filter(publications__title__startswith=\"Science\")\n",
    "[<Article: NASA uses Python>, <Article: NASA uses Python>]\n",
    "\n",
    ">>> Article.objects.filter(publications__title__startswith=\"Science\").distinct()\n",
    "[<Article: NASA uses Python>]\n",
    "```\n"
   ]
  },
  {
   "cell_type": "markdown",
   "metadata": {},
   "source": [
    "Reverse m2m queries are supported (i.e., starting at the table that doesn’t have a ManyToManyField):\n",
    "\n",
    "```python\n",
    ">>> Publication.objects.filter(id=1)\n",
    "[<Publication: The Python Journal>]\n",
    ">>> Publication.objects.filter(pk=1)\n",
    "[<Publication: The Python Journal>]\n",
    "\n",
    ">>> Publication.objects.filter(article__headline__startswith=\"NASA\")\n",
    "[<Publication: Highlights for Children>, <Publication: Science News>, <Publication: Science Weekly>, <Publication: The Python Journal>]\n",
    "\n",
    ">>> Publication.objects.filter(article__id=1)\n",
    "[<Publication: The Python Journal>]\n",
    ">>> Publication.objects.filter(article__pk=1)\n",
    "[<Publication: The Python Journal>]\n",
    ">>> Publication.objects.filter(article=1)\n",
    "[<Publication: The Python Journal>]\n",
    ">>> Publication.objects.filter(article=a1)\n",
    "[<Publication: The Python Journal>]\n",
    "\n",
    ">>> Publication.objects.filter(article__in=[1,2]).distinct()\n",
    "[<Publication: Highlights for Children>, <Publication: Science News>, <Publication: Science Weekly>, <Publication: The Python Journal>]\n",
    ">>> Publication.objects.filter(article__in=[a1,a2]).distinct()\n",
    "[<Publication: Highlights for Children>, <Publication: Science News>, <Publication: Science Weekly>, <Publication: The Python Journal>]\n",
    "\n",
    "```"
   ]
  },
  {
   "cell_type": "markdown",
   "metadata": {},
   "source": [
    "## Many-to-one relationships"
   ]
  },
  {
   "cell_type": "code",
   "execution_count": null,
   "metadata": {
    "collapsed": true
   },
   "outputs": [],
   "source": [
    "rom django.db import models\n",
    "\n",
    "class Reporter(models.Model):\n",
    "    first_name = models.CharField(max_length=30)\n",
    "    last_name = models.CharField(max_length=30)\n",
    "    email = models.EmailField()\n",
    "\n",
    "    def __str__(self):              # __unicode__ on Python 2\n",
    "        return \"%s %s\" % (self.first_name, self.last_name)\n",
    "\n",
    "class Article(models.Model):\n",
    "    headline = models.CharField(max_length=100)\n",
    "    pub_date = models.DateField()\n",
    "    reporter = models.ForeignKey(Reporter, on_delete=models.CASCADE) #ForeignKey\n",
    "\n",
    "    def __str__(self):              # __unicode__ on Python 2\n",
    "        return self.headline\n",
    "\n",
    "    class Meta:\n",
    "        ordering = ('headline',)\n"
   ]
  },
  {
   "cell_type": "markdown",
   "metadata": {},
   "source": [
    "```python\n",
    ">>> r = Reporter(first_name='John', last_name='Smith', email='john@example.com')\n",
    ">>> r.save()\n",
    "\n",
    ">>> r2 = Reporter(first_name='Paul', last_name='Jones', email='paul@example.com')\n",
    ">>> r2.save()\n",
    "\n",
    ">>> from datetime import date\n",
    ">>> a = Article(id=None, headline=\"This is a test\", pub_date=date(2005, 7, 27), reporter=r)\n",
    ">>> a.save()\n",
    "\n",
    ">>> a.reporter.id\n",
    "1\n",
    "\n",
    ">>> a.reporter\n",
    "<Reporter: John Smith>\n",
    "\n",
    "\n",
    "# Find all Articles for any Reporter whose first name is \"John\".\n",
    ">>> Article.objects.filter(reporter__first_name='John')\n",
    "[<Article: John's second story>, <Article: This is a test>]\n",
    "\n",
    "\n",
    "```"
   ]
  },
  {
   "cell_type": "markdown",
   "metadata": {},
   "source": [
    "## One-to-one relationships"
   ]
  },
  {
   "cell_type": "code",
   "execution_count": null,
   "metadata": {
    "collapsed": true
   },
   "outputs": [],
   "source": [
    "from django.db import models\n",
    "\n",
    "class Place(models.Model):\n",
    "    name = models.CharField(max_length=50)\n",
    "    address = models.CharField(max_length=80)\n",
    "\n",
    "    def __str__(self):              # __unicode__ on Python 2\n",
    "        return \"%s the place\" % self.name\n",
    "\n",
    "class Restaurant(models.Model): #OneToOneField\n",
    "    place = models.OneToOneField(\n",
    "        Place,\n",
    "        on_delete=models.CASCADE,\n",
    "        primary_key=True,\n",
    "    )\n",
    "    serves_hot_dogs = models.BooleanField(default=False)\n",
    "    serves_pizza = models.BooleanField(default=False)\n",
    "\n",
    "    def __str__(self):              # __unicode__ on Python 2\n",
    "        return \"%s the restaurant\" % self.place.name\n",
    "\n",
    "class Waiter(models.Model):\n",
    "    restaurant = models.ForeignKey(Restaurant, on_delete=models.CASCADE)\n",
    "    name = models.CharField(max_length=50)\n",
    "\n",
    "    def __str__(self):              # __unicode__ on Python 2\n",
    "        return \"%s the waiter at %s\" % (self.name, self.restaurant)"
   ]
  },
  {
   "cell_type": "markdown",
   "metadata": {},
   "source": [
    "```python\n",
    ">> p1 = Place(name='Demon Dogs', address='944 W. Fullerton')\n",
    ">>> p1.save()\n",
    ">>> p2 = Place(name='Ace Hardware', address='1013 N. Ashland')\n",
    ">>> p2.save()\n",
    ">>> r = Restaurant(place=p1, serves_hot_dogs=True, serves_pizza=False)\n",
    ">>> r.save()\n",
    "\n",
    "\n",
    ">>> r.place\n",
    "<Place: Demon Dogs the place>\n",
    "\n",
    "\n",
    "\n",
    ">>> p1.restaurant\n",
    "<Restaurant: Demon Dogs the restaurant>\n",
    "\n",
    "```"
   ]
  },
  {
   "cell_type": "markdown",
   "metadata": {},
   "source": [
    "You can query the models using lookups across relationships:\n",
    "\n",
    "```python\n",
    ">>> Restaurant.objects.get(place=p1)\n",
    "<Restaurant: Demon Dogs the restaurant>\n",
    ">>> Restaurant.objects.get(place__pk=1)\n",
    "<Restaurant: Demon Dogs the restaurant>\n",
    ">>> Restaurant.objects.filter(place__name__startswith=\"Demon\")\n",
    "[<Restaurant: Demon Dogs the restaurant>]\n",
    ">>> Restaurant.objects.exclude(place__address__contains=\"Ashland\")\n",
    "[<Restaurant: Demon Dogs the restaurant>]\n",
    "```\n"
   ]
  }
 ],
 "metadata": {
  "kernelspec": {
   "display_name": "Python 2",
   "language": "python",
   "name": "python2"
  },
  "language_info": {
   "codemirror_mode": {
    "name": "ipython",
    "version": 2
   },
   "file_extension": ".py",
   "mimetype": "text/x-python",
   "name": "python",
   "nbconvert_exporter": "python",
   "pygments_lexer": "ipython2",
   "version": "2.7.11"
  }
 },
 "nbformat": 4,
 "nbformat_minor": 0
}
