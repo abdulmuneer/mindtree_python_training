{
 "cells": [
  {
   "cell_type": "markdown",
   "metadata": {},
   "source": [
    "### Extending Python:\n",
    "#### c program\n",
    "```c\n",
    "/* File: example.c */\n",
    "\n",
    "#include \"example.h\"\n",
    "\n",
    "int fact(int n) {\n",
    "    if (n < 0){ /* This should probably return an error, but this is simpler */\n",
    "        return 0;\n",
    "    }\n",
    "    if (n == 0) {\n",
    "        return 1;\n",
    "    }\n",
    "    else {\n",
    "        /* testing for overflow would be a good idea here */\n",
    "        return n * fact(n-1);\n",
    "    }\n",
    "}\n",
    "```"
   ]
  },
  {
   "cell_type": "markdown",
   "metadata": {},
   "source": [
    "#### header file\n",
    "\n",
    "```c\n",
    "/* File: example.h */\n",
    "\n",
    "int fact(int n);\n",
    "```"
   ]
  },
  {
   "cell_type": "markdown",
   "metadata": {},
   "source": [
    "#### SWIG wrapper\n",
    "\n",
    "```c\n",
    "/* File: example.i */\n",
    "%module example\n",
    "\n",
    "%{\n",
    "#define SWIG_FILE_WITH_INIT\n",
    "#include \"example.h\"\n",
    "%}\n",
    "\n",
    "int fact(int n);\n",
    "```\n",
    "------------\n",
    " The `#define SWIG_FILE_WITH_INIT` line inserts a macro that specifies that the resulting C file should be built as a python extension, inserting the module init code."
   ]
  },
  {
   "cell_type": "markdown",
   "metadata": {},
   "source": [
    "To build a Python module, run SWIG using the -python option:\n",
    "```shell\n",
    "swig -python example.i\n",
    "```\n",
    "\n",
    "This creates example_wrap.c (or example_wrap.cxx if -c++ option was given)  and a Python source file example.py"
   ]
  },
  {
   "cell_type": "markdown",
   "metadata": {},
   "source": [
    "The setup call then sets up distutils to build your package\n",
    "\n",
    "```shell\n",
    "python setup.py build_ext --inplace\n",
    "```\n",
    "\n",
    "\n",
    "- python -- the version of python you want to build for\n",
    "- setup.py -- the name of your setup script (it can be called anything, but setup.py is the tradition)\n",
    "- build_ext -- telling distutils to build extensions\n",
    "- --inplace -- this tells distutils to put the extension lib in the current dir. "
   ]
  },
  {
   "cell_type": "markdown",
   "metadata": {},
   "source": [
    "### Now use inside python!\n",
    "```python\n",
    "from example import fact\n",
    "fact(10)\n",
    "```"
   ]
  },
  {
   "cell_type": "markdown",
   "metadata": {},
   "source": [
    "Other options:\n",
    "\n",
    "http://intermediate-and-advanced-software-carpentry.readthedocs.org/en/latest/c++-wrapping.html\n",
    "\n",
    "    Manual wrapping (PyObject)\n",
    "    Wrapping C code with pyrex\n",
    "    ctypes\n",
    "    SIP (Python bindings for Qt)\n",
    "    Boost.Python\n",
    "\n"
   ]
  }
 ],
 "metadata": {
  "kernelspec": {
   "display_name": "Python 2",
   "language": "python",
   "name": "python2"
  },
  "language_info": {
   "codemirror_mode": {
    "name": "ipython",
    "version": 2
   },
   "file_extension": ".py",
   "mimetype": "text/x-python",
   "name": "python",
   "nbconvert_exporter": "python",
   "pygments_lexer": "ipython2",
   "version": "2.7.11"
  }
 },
 "nbformat": 4,
 "nbformat_minor": 0
}
