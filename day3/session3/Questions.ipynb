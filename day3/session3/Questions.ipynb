{
 "cells": [
  {
   "cell_type": "code",
   "execution_count": null,
   "metadata": {
    "collapsed": true
   },
   "outputs": [],
   "source": [
    "#What will be the output?\n",
    "def f(x,l=[]):\n",
    "    for i in range(x):\n",
    "        l.append(i*i)\n",
    "    print(l) \n",
    "\n",
    "f(2)\n",
    "f(3,[3,2,1])\n",
    "f(3)\n"
   ]
  },
  {
   "cell_type": "code",
   "execution_count": null,
   "metadata": {
    "collapsed": true
   },
   "outputs": [],
   "source": [
    "#implement nested ls without using os.walk"
   ]
  },
  {
   "cell_type": "markdown",
   "metadata": {
    "collapsed": true
   },
   "source": [
    "```python\n",
    "\n",
    ">>> class A(object):\n",
    "...     x = 1\n",
    "...\n",
    ">>> class B(A):\n",
    "...     pass\n",
    "...\n",
    ">>> class C(A):\n",
    "...     pass\n",
    "...\n",
    ">>> print A.x, B.x, C.x\n",
    "1 1 1\n",
    "\n",
    "\n",
    ">>> B.x = 2\n",
    ">>> print A.x, B.x, C.x\n",
    "? ? ?\n",
    "\n",
    "\n",
    ">>> A.x = 3\n",
    ">>> print A.x, B.x, C.x\n",
    "? ? ?\n",
    "```"
   ]
  },
  {
   "cell_type": "markdown",
   "metadata": {},
   "source": [
    "```python\n",
    ">>> x = 10\n",
    ">>> def foo():\n",
    "...     x += 1\n",
    "...     print x\n",
    "...\n",
    ">>> foo()\n",
    "? ? ?\n",
    "```"
   ]
  },
  {
   "cell_type": "code",
   "execution_count": null,
   "metadata": {
    "collapsed": true
   },
   "outputs": [],
   "source": []
  }
 ],
 "metadata": {
  "kernelspec": {
   "display_name": "Python 2",
   "language": "python",
   "name": "python2"
  },
  "language_info": {
   "codemirror_mode": {
    "name": "ipython",
    "version": 2
   },
   "file_extension": ".py",
   "mimetype": "text/x-python",
   "name": "python",
   "nbconvert_exporter": "python",
   "pygments_lexer": "ipython2",
   "version": "2.7.11"
  }
 },
 "nbformat": 4,
 "nbformat_minor": 0
}
