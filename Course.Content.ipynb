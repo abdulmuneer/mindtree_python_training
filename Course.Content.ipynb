{
 "cells": [
  {
   "cell_type": "markdown",
   "metadata": {},
   "source": [
    "# Advanced Python Course"
   ]
  },
  {
   "cell_type": "raw",
   "metadata": {},
   "source": [
    "\n",
    "Day 1:\n",
    "Session 1:\n",
    "    •    Introduction, Use cases of python\n",
    "    •    Python interpreter, console. Interactive mode, dir, help, type\n",
    "    •    Basic and Advanced Data Structures\n",
    "    •    Variables, Dynamic typing\n",
    "    •    Functions\n",
    "    •    Python objects, Classes\n",
    "    •    .py and .pyc files, identity, introspection\n",
    "Session2:\n",
    "\n",
    "    •    Anonymous Functions\n",
    "    •    More on Classes: Private Methods, Descriptors, slots\n",
    "    •    List Comprehensions, Dictionary and Set Comprehensions\n",
    "    •    String Processing\n",
    "\n",
    "Session 3:\n",
    "    •    Exception Handling: Creating Custom Exceptions\n",
    "    •    Higher order Functions, Decorators\n",
    "    •    memoization\n",
    "\n",
    "\n",
    "Session 4:\n",
    "    •    Functional Programming Concepts: Map, Filter, Reduce.\n",
    "    •    Standard Library: glob, os, sys, pickel, marshal, shelve, commands (used in subprocess), time, datetime\n",
    "    •    collections module\n",
    "\n"
   ]
  },
  {
   "cell_type": "raw",
   "metadata": {
    "collapsed": true
   },
   "source": [
    "Day 2:\n",
    "\n",
    "Session 1:\n",
    "    •    Python packaging\n",
    "    •    3rd party libraries, pip, easy_install\n",
    "    •    Using Debugger : pdb, stack trace.\n",
    "    •    Logging: Introduction, Configuration\n",
    "    •    \n",
    "Session 2:\n",
    "    •    Testing: unittest, doctest, pytest, mock\n",
    "    •    python memory usage\n",
    "    •    Weak References\n",
    "    •    regular expressions\n",
    "Session 3:\n",
    "    •    Generators. yield statement\n",
    "    •    ConfigParser\n",
    "    •    httplib module, urlparser module\n",
    "Session 4:\n",
    "    •    Networking. Sockets\n",
    "    •    Subprocess Module\n",
    " \n",
    "\n"
   ]
  },
  {
   "cell_type": "raw",
   "metadata": {},
   "source": [
    "\n",
    "Day 3:\n",
    "Session 1:\n",
    "    •    pexpect spwan, fork, Pipes, timers, signal handling, Environment variables\n",
    "    •    File handling: Open, read, write, delete files. StringIO\n",
    "    •    Threads: synchronization\n",
    "    •    multiprocessing Module\n",
    "    •    Events, locks and blocking, Queue\n",
    "    •    calling external programs and capturing output.\n",
    "Session 2:\n",
    "    •    Connecting to MySQL\n",
    "    •    Introduction to Django and sqlalchemy ORM\n",
    "Session 3:\n",
    "    •    Python Invoking C++ code[ like upcall and downcall handlers] Embedded\n",
    "    •    python invoking c code [ gated files are in .c ]\n",
    "    •    cffi\n",
    "Session 4:\n",
    "    •    Metaclasses\n",
    "    •    Context Managers\n",
    "    •    python shared libraries\n",
    "    •    Programs execution in bytecode\n"
   ]
  }
 ],
 "metadata": {
  "kernelspec": {
   "display_name": "Python 2",
   "language": "python",
   "name": "python2"
  },
  "language_info": {
   "codemirror_mode": {
    "name": "ipython",
    "version": 2
   },
   "file_extension": ".py",
   "mimetype": "text/x-python",
   "name": "python",
   "nbconvert_exporter": "python",
   "pygments_lexer": "ipython2",
   "version": "2.7.11"
  }
 },
 "nbformat": 4,
 "nbformat_minor": 0
}
