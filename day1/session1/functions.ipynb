{
 "cells": [
  {
   "cell_type": "markdown",
   "metadata": {},
   "source": [
    "Functions:\n",
    "    Syntax\n",
    "    Invocation\n",
    "    Parameter passing, Parameter passing with names\n",
    "    Idea of pass by object\n",
    "    Recursion and Nesting of functions"
   ]
  },
  {
   "cell_type": "code",
   "execution_count": null,
   "metadata": {
    "collapsed": true
   },
   "outputs": [],
   "source": [
    "#Function declaration\n",
    "def adder(x, y):\n",
    "    '''\n",
    "    This is a function to add two numbers\n",
    "    '''\n",
    "    return x+y\n"
   ]
  },
  {
   "cell_type": "code",
   "execution_count": null,
   "metadata": {
    "collapsed": false
   },
   "outputs": [],
   "source": [
    "#calling a function \n",
    "adder(2,30)\n",
    "#help(adder)"
   ]
  },
  {
   "cell_type": "code",
   "execution_count": 1,
   "metadata": {
    "collapsed": true
   },
   "outputs": [],
   "source": [
    "# Accepting variable number of arguments\n",
    "def adder(x, y, *arg ):\n",
    "    print x, y, arg"
   ]
  },
  {
   "cell_type": "code",
   "execution_count": 2,
   "metadata": {
    "collapsed": false
   },
   "outputs": [
    {
     "name": "stdout",
     "output_type": "stream",
     "text": [
      "1 2 (3, 4, 5)\n"
     ]
    }
   ],
   "source": [
    "adder(1, 2, 3, 4, 5)"
   ]
  },
  {
   "cell_type": "code",
   "execution_count": null,
   "metadata": {
    "collapsed": false
   },
   "outputs": [],
   "source": [
    "# Invalid Syntax\n",
    "def adder(*args, x, y):\n",
    "    print x, y, arg"
   ]
  },
  {
   "cell_type": "code",
   "execution_count": 3,
   "metadata": {
    "collapsed": false
   },
   "outputs": [
    {
     "name": "stdout",
     "output_type": "stream",
     "text": [
      "[0, 1, 2, 3, 4]\n",
      "x ['abc']\n",
      "[1000, 1, 2, 3, 4]\n"
     ]
    }
   ],
   "source": [
    "#pass by reference\n",
    "x = range(5)\n",
    "\n",
    "def modify(y):\n",
    "    y[0] = 1000\n",
    "    x = ['abc']\n",
    "    print \"x\", x\n",
    "\n",
    "print x\n",
    "modify(x)\n",
    "print x\n"
   ]
  },
  {
   "cell_type": "code",
   "execution_count": null,
   "metadata": {
    "collapsed": false
   },
   "outputs": [],
   "source": [
    "#Default arguments\n",
    "def adder(x=10, y=20):\n",
    "    return(x+y)\n",
    "\n",
    "print adder(1,3)\n",
    "print adder()\n",
    "print adder(1)\n",
    "\n",
    "print adder(y=1)"
   ]
  },
  {
   "cell_type": "code",
   "execution_count": null,
   "metadata": {
    "collapsed": true
   },
   "outputs": [],
   "source": [
    "# It is allowed to change the order of named arguments\n",
    "def divide(x=1, y=1):\n",
    "    return x/y\n",
    "\n",
    "divide(y=10, x=100)"
   ]
  },
  {
   "cell_type": "code",
   "execution_count": 4,
   "metadata": {
    "collapsed": false
   },
   "outputs": [
    {
     "name": "stdout",
     "output_type": "stream",
     "text": [
      "Bob 20 {}\n",
      "Alice 25 {'country': 'India', 'state': 'KA'}\n"
     ]
    }
   ],
   "source": [
    "# variable number of keyword arguments\n",
    "def get_student_info(name=None, age=None, **kwargs):\n",
    "    print name, age, kwargs\n",
    "    \n",
    "get_student_info('Bob', 20)\n",
    "get_student_info('Alice', 25, country='India', state='KA')"
   ]
  },
  {
   "cell_type": "code",
   "execution_count": null,
   "metadata": {
    "collapsed": false
   },
   "outputs": [],
   "source": [
    "#another example\n",
    "dict1 = {'name':'Alice', 'age':20}\n",
    "print dict1\n",
    "dict2 = dict(name='Alice', age=20)\n",
    "print dict2"
   ]
  },
  {
   "cell_type": "markdown",
   "metadata": {},
   "source": [
    "__Python scoping w.r.t. functions__\n",
    "\n",
    "* scope is categorized as global and local\n",
    "* 'nonlocal' added in python "
   ]
  },
  {
   "cell_type": "code",
   "execution_count": 5,
   "metadata": {
    "collapsed": false
   },
   "outputs": [
    {
     "name": "stdout",
     "output_type": "stream",
     "text": [
      "outside the function, name is:  Alice\n",
      "within the function, name is:  Alice\n",
      "outside the function, name now is:  Alice\n"
     ]
    }
   ],
   "source": [
    "#python scope: example 1\n",
    "name = 'Alice'\n",
    "def student1():\n",
    "    print 'within the function, name is: ', name\n",
    "    \n",
    "print \"outside the function, name is: \", name \n",
    "student1()\n",
    "print \"outside the function, name now is: \", name"
   ]
  },
  {
   "cell_type": "code",
   "execution_count": 6,
   "metadata": {
    "collapsed": false
   },
   "outputs": [
    {
     "name": "stdout",
     "output_type": "stream",
     "text": [
      "outside the function, name is:  Alice\n",
      "within the function, name is:  bob\n",
      "outside the function, name now is:  Alice\n"
     ]
    }
   ],
   "source": [
    "#python scope: example 2\n",
    "\n",
    "name = 'Alice'\n",
    "\n",
    "def student2():\n",
    "    name = 'bob'\n",
    "    print 'within the function, name is: ', name\n",
    "print \"outside the function, name is: \", name\n",
    "student2()\n",
    "print \"outside the function, name now is: \", name\n",
    "    \n",
    "#locals()"
   ]
  },
  {
   "cell_type": "code",
   "execution_count": 7,
   "metadata": {
    "collapsed": false
   },
   "outputs": [
    {
     "name": "stdout",
     "output_type": "stream",
     "text": [
      "outside the function, name is:  Alice\n",
      "within the function, name is:  bob\n",
      "outside the function, name now is:  bob\n"
     ]
    }
   ],
   "source": [
    "#python scope: example 3\n",
    "def student2():\n",
    "    global name\n",
    "    name = 'bob'\n",
    "    print 'within the function, name is: ', name\n",
    "    \n",
    "print \"outside the function, name is: \", name\n",
    "student2()\n",
    "print \"outside the function, name now is: \", name\n"
   ]
  },
  {
   "cell_type": "markdown",
   "metadata": {
    "collapsed": true
   },
   "source": [
    "Recursion and Nesting of functions"
   ]
  },
  {
   "cell_type": "code",
   "execution_count": 8,
   "metadata": {
    "collapsed": true
   },
   "outputs": [],
   "source": [
    "def fib(n):\n",
    "    if n in (0, 1):\n",
    "        return 1\n",
    "    else:\n",
    "        return fib(n-1) + fib(n-2)\n",
    "    "
   ]
  },
  {
   "cell_type": "code",
   "execution_count": 9,
   "metadata": {
    "collapsed": false
   },
   "outputs": [
    {
     "data": {
      "text/plain": [
       "89"
      ]
     },
     "execution_count": 9,
     "metadata": {},
     "output_type": "execute_result"
    }
   ],
   "source": [
    "fib(10)\n",
    "\n"
   ]
  },
  {
   "cell_type": "code",
   "execution_count": 10,
   "metadata": {
    "collapsed": true
   },
   "outputs": [],
   "source": [
    "def fib_series(n):\n",
    "    for i in range(n):\n",
    "        print fib(i),"
   ]
  },
  {
   "cell_type": "code",
   "execution_count": 11,
   "metadata": {
    "collapsed": false
   },
   "outputs": [
    {
     "name": "stdout",
     "output_type": "stream",
     "text": [
      "1 1 2 3 5\n"
     ]
    }
   ],
   "source": [
    "fib_series(5)"
   ]
  }
 ],
 "metadata": {
  "kernelspec": {
   "display_name": "Python 2",
   "language": "python",
   "name": "python2"
  },
  "language_info": {
   "codemirror_mode": {
    "name": "ipython",
    "version": 2
   },
   "file_extension": ".py",
   "mimetype": "text/x-python",
   "name": "python",
   "nbconvert_exporter": "python",
   "pygments_lexer": "ipython2",
   "version": "2.7.11"
  }
 },
 "nbformat": 4,
 "nbformat_minor": 0
}
