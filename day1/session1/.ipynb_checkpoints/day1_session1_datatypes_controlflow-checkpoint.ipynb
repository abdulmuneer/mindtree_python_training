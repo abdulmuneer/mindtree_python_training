{
 "cells": [
  {
   "cell_type": "raw",
   "metadata": {},
   "source": [
    "Session 1:\n",
    "    •    Introduction, Use cases of python\n",
    "    •    Python interpreter, console. Interactive mode, dir, help, type\n",
    "    •    Basic and Advanced Data Structures\n",
    "    •    Variables, Dynamic typing\n",
    "    •    Functions\n",
    "    •    Python objects, Classes\n",
    "    •    .py and .pyc files, identity, introspection ",
    " "
   ]
  },
  {
   "cell_type": "markdown",
   "metadata": {
    "collapsed": true
   },
   "source": [
    "Basic Data Structures : \n",
    "* int, float, str\n",
    "* Possible operations on above datatypes\n",
    "* Variables\n",
    "* Dynamic typing\n",
    "\n"
   ]
  },
  {
   "cell_type": "markdown",
   "metadata": {},
   "source": [
    "__Numbers__:\n",
    "\n",
    "* int \n",
    "\n",
    "```python\n",
    "x = 10\n",
    "y = -1\n",
    "z = 1000\n",
    "```\n",
    "* float\n",
    "\n",
    "```python\n",
    "x = 10.1\n",
    "y = -1.1\n",
    "z = 3.14\n",
    "```\n",
    "* complex\n",
    "\n",
    "```python\n",
    "x = 10 + 2j\n",
    "y = -1j\n",
    "```"
   ]
  },
  {
   "cell_type": "markdown",
   "metadata": {},
   "source": [
    "__Boolean and None__\n",
    "\n",
    "```python\n",
    "True\n",
    "False\n",
    "None\n",
    "```"
   ]
  },
  {
   "cell_type": "code",
   "execution_count": null,
   "metadata": {
    "collapsed": true
   },
   "outputs": [],
   "source": []
  }
 ],
 "metadata": {
  "kernelspec": {
   "display_name": "Python 2",
   "language": "python",
   "name": "python2"
  },
  "language_info": {
   "codemirror_mode": {
    "name": "ipython",
    "version": 2
   },
   "file_extension": ".py",
   "mimetype": "text/x-python",
   "name": "python",
   "nbconvert_exporter": "python",
   "pygments_lexer": "ipython2",
   "version": "2.7.11"
  }
 },
 "nbformat": 4,
 "nbformat_minor": 0
}
