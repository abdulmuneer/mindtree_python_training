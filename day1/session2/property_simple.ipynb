{
 "cells": [
  {
   "cell_type": "markdown",
   "metadata": {},
   "source": [
    "### Properties allow you to add behavior to data attributes"
   ]
  },
  {
   "cell_type": "code",
   "execution_count": 1,
   "metadata": {
    "collapsed": false
   },
   "outputs": [
    {
     "name": "stdout",
     "output_type": "stream",
     "text": [
      "returning x, which is1\n",
      "setting x to 4\n"
     ]
    }
   ],
   "source": [
    "import math\n",
    "class My2Vector(object):\n",
    "    def __init__ (self, x, y):\n",
    "        self._x = x\n",
    "        self._y = y\n",
    "    def get_x(self):\n",
    "        print\"returning x, which is{}\".format(self._x)\n",
    "        return self._x\n",
    "    def set_x (self, x):\n",
    "        print \"setting x to {}\".format(x)\n",
    "        self._x = x\n",
    "    @property    \n",
    "    def distance_from_origin(self):\n",
    "        return math.sqrt(self._x**2 + self._y**2)\n",
    "        \n",
    "\n",
    "    x = property(get_x, set_x)\n",
    "    \n",
    "v1 = My2Vector(1, 2)\n",
    "x = v1.x\n",
    "# uses the getter, which prints the value\n",
    "v1.x = 4\n",
    "# uses the setter, printing the value"
   ]
  },
  {
   "cell_type": "code",
   "execution_count": null,
   "metadata": {
    "collapsed": true
   },
   "outputs": [],
   "source": []
  },
  {
   "cell_type": "code",
   "execution_count": 2,
   "metadata": {
    "collapsed": false
   },
   "outputs": [
    {
     "data": {
      "text/plain": [
       "4.47213595499958"
      ]
     },
     "execution_count": 2,
     "metadata": {},
     "output_type": "execute_result"
    }
   ],
   "source": [
    "v1.distance_from_origin"
   ]
  },
  {
   "cell_type": "code",
   "execution_count": null,
   "metadata": {
    "collapsed": false
   },
   "outputs": [],
   "source": [
    "v1.x"
   ]
  },
  {
   "cell_type": "code",
   "execution_count": null,
   "metadata": {
    "collapsed": true
   },
   "outputs": [],
   "source": []
  }
 ],
 "metadata": {
  "kernelspec": {
   "display_name": "Python 2",
   "language": "python",
   "name": "python2"
  },
  "language_info": {
   "codemirror_mode": {
    "name": "ipython",
    "version": 2
   },
   "file_extension": ".py",
   "mimetype": "text/x-python",
   "name": "python",
   "nbconvert_exporter": "python",
   "pygments_lexer": "ipython2",
   "version": "2.7.11"
  }
 },
 "nbformat": 4,
 "nbformat_minor": 0
}
