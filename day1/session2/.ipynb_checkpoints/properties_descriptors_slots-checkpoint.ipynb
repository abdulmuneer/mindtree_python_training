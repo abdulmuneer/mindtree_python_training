{
 "cells": [
  {
   "cell_type": "markdown",
   "metadata": {},
   "source": [
    "## Descriptors are ... reusable properties\n",
    "\n",
    "Here's what we're building up to: fundamentally, descriptors are properties that you can reuse. That is, descriptors let you write code that looks like this"
   ]
  },
  {
   "cell_type": "code",
   "execution_count": null,
   "metadata": {
    "collapsed": false
   },
   "outputs": [],
   "source": [
    "f = Foo()\n",
    "b = f.bar\n",
    "f.bar = c\n",
    "del f.bar"
   ]
  },
  {
   "cell_type": "markdown",
   "metadata": {},
   "source": [
    "and, behind the scenes, calls custom methods when trying to access (`b = f.bar`), assign to (`f.bar = c`), or delete an instance variable (`del f.bar`)\n",
    "\n",
    "Let's establish why being able to disguise function calls as attribute access is a good thing.\n",
    "\n",
    "## Properties disguise function calls as attributes\n"
   ]
  },
  {
   "cell_type": "code",
   "execution_count": null,
   "metadata": {
    "collapsed": false
   },
   "outputs": [],
   "source": [
    "class Movie(object):\n",
    "    def __init__(self, title, rating, runtime, budget, gross):\n",
    "        self.title = title\n",
    "        self.rating = rating\n",
    "        self.runtime = runtime\n",
    "        self.budget = budget\n",
    "        self.gross = gross\n",
    "        \n",
    "    def profit(self):\n",
    "        return self.gross - self.budget"
   ]
  },
  {
   "cell_type": "markdown",
   "metadata": {},
   "source": [
    "#### How to prevent assigning negative budgets to movies?"
   ]
  },
  {
   "cell_type": "code",
   "execution_count": null,
   "metadata": {
    "collapsed": false
   },
   "outputs": [],
   "source": [
    "class Movie(object):\n",
    "    def __init__(self, title, rating, runtime, budget, gross):\n",
    "        self.title = title\n",
    "        self.rating = rating\n",
    "        self.runtime = runtime\n",
    "        self.gross = gross\n",
    "        if budget < 0:\n",
    "            raise ValueError(\"Negative value not allowed: %s\" % budget)\n",
    "        self.budget = budget\n",
    "        \n",
    "    def profit(self):\n",
    "        return self.gross - self.budget"
   ]
  },
  {
   "cell_type": "markdown",
   "metadata": {},
   "source": [
    "#### Not quite..\n",
    "other parts of your code assign values to `Movie.budget` directly \n",
    "this new class catches data entry errors within the `__init__` method\n",
    "\n",
    "Luckily, Python **properties** solve this problem. "
   ]
  },
  {
   "cell_type": "code",
   "execution_count": null,
   "metadata": {
    "collapsed": false
   },
   "outputs": [],
   "source": [
    "class Movie(object):\n",
    "    def __init__(self, title, rating, runtime, budget, gross):\n",
    "        self._budget = None\n",
    "\n",
    "        self.title = title\n",
    "        self.rating = rating\n",
    "        self.runtime = runtime\n",
    "        self.gross = gross\n",
    "        self.budget = budget\n",
    "        \n",
    "    @property\n",
    "    def budget(self):\n",
    "        return self._budget\n",
    "    \n",
    "    @budget.setter\n",
    "    def budget(self, value):\n",
    "        if value < 0:\n",
    "            raise ValueError(\"Negative value not allowed: %s\" % value)\n",
    "        self._budget = value\n",
    "        \n",
    "    def profit(self):\n",
    "        return self.gross - self.budget\n",
    "\n",
    "    \n",
    "m = Movie('Casablanca', 97, 102, 964000, 1300000)\n",
    "print m.budget       # calls m.budget(), returns result\n",
    "try:\n",
    "    m.budget = -100  # calls budget.setter(-100), and raises ValueError\n",
    "except ValueError:\n",
    "    print \"Woops. Not allowed\""
   ]
  },
  {
   "cell_type": "markdown",
   "metadata": {},
   "source": [
    "* We specify a getter method with a ```@property``` decorator,\n",
    "* a setter method with a ```@budget.setter``` decorator. \n",
    "\n",
    "When we do that, Python automatically calls the getter whenever anybody tries to access the budget. Likewise Python automatically calls ```budget.setter``` whenever it encounters code like ```m.budget = value```.\n",
    "\n",
    "If properties didn't exist, we'd have to hide all of our instance attributes, and provide lots of explicit methods like `get_budget` and `set_budget`. Code that uses our classes would constantly be calling these getter/setter methods, and would start to look like crufty Java code.\n",
    "\n",
    "\n",
    "\n",
    "## Properties Get Tedious\n",
    "\n",
    "The main downside to properties is that they aren't reusable. For example, let's assume you want to add the non-negativity check to the `rating`, `runtime`, and `gross` fields as well. Here's the new class"
   ]
  },
  {
   "cell_type": "code",
   "execution_count": null,
   "metadata": {
    "collapsed": false
   },
   "outputs": [],
   "source": [
    "class Movie(object):\n",
    "    def __init__(self, title, rating, runtime, budget, gross):\n",
    "        self._rating = None\n",
    "        self._runtime = None\n",
    "        self._budget = None\n",
    "        self._gross = None\n",
    "\n",
    "        self.title = title\n",
    "        self.rating = rating\n",
    "        self.runtime = runtime\n",
    "        self.gross = gross\n",
    "        self.budget = budget\n",
    "        \n",
    "    #nice\n",
    "    @property\n",
    "    def budget(self):\n",
    "        return self._budget\n",
    "    \n",
    "    @budget.setter\n",
    "    def budget(self, value):\n",
    "        if value < 0:\n",
    "            raise ValueError(\"Negative value not allowed: %s\" % value)\n",
    "        self._budget = value\n",
    "        \n",
    "    #ok    \n",
    "    @property\n",
    "    def rating(self):\n",
    "        return self._rating\n",
    "    \n",
    "    @rating.setter\n",
    "    def rating(self, value):\n",
    "        if value < 0:\n",
    "            raise ValueError(\"Negative value not allowed: %s\" % value)\n",
    "        self._rating = value\n",
    "       \n",
    "    #uhh...\n",
    "    @property\n",
    "    def runtime(self):\n",
    "        return self._runtime\n",
    "    \n",
    "    @runtime.setter\n",
    "    def runtime(self, value):\n",
    "        if value < 0:\n",
    "            raise ValueError(\"Negative value not allowed: %s\" % value)\n",
    "        self._runtime = value        \n",
    "    \n",
    "    #is this forever?\n",
    "    @property\n",
    "    def gross(self):\n",
    "        return self._gross\n",
    "    \n",
    "    @gross.setter\n",
    "    def gross(self, value):\n",
    "        if value < 0:\n",
    "            raise ValueError(\"Negative value not allowed: %s\" % value)\n",
    "        self._gross = value        \n",
    "        \n",
    "    def profit(self):\n",
    "        return self.gross - self.budget"
   ]
  },
  {
   "cell_type": "markdown",
   "metadata": {},
   "source": [
    "That's **a lot** of code, and a lot of duplicated logic. While properties make the outsides of classes look nice, they don't make the insides of classes look nice.\n",
    "\n",
    "## Descriptors (Finally)\n",
    "\n",
    "**This** is the problem that descriptors solve. Descriptors generalize properties, and let you write separate classes for reusable property logic. Here's an example of how they work (for the moment, don't worry about what's inside `NonNegative`):"
   ]
  },
  {
   "cell_type": "code",
   "execution_count": null,
   "metadata": {
    "collapsed": false
   },
   "outputs": [],
   "source": [
    "from weakref import WeakKeyDictionary\n",
    "\n",
    "class NonNegative(object):\n",
    "    \"\"\"A descriptor that forbids negative values\"\"\"\n",
    "    def __init__(self, default):\n",
    "        self.default = default\n",
    "        self.data = WeakKeyDictionary()\n",
    "        \n",
    "    def __get__(self, instance, owner):\n",
    "        # we get here when someone calls x.d, and d is a NonNegative instance\n",
    "        # instance = x\n",
    "        # owner = type(x)\n",
    "        return self.data.get(instance, self.default)\n",
    "    \n",
    "    def __set__(self, instance, value):\n",
    "        # we get here when someone calls x.d = val, and d is a NonNegative instance\n",
    "        # instance = x\n",
    "        # value = val\n",
    "        if value < 0:\n",
    "            raise ValueError(\"Negative value not allowed: %s\" % value)\n",
    "        self.data[instance] = value\n",
    "\n",
    "        \n",
    "class Movie(object):\n",
    "    \n",
    "    #always put descriptors at the class-level\n",
    "    rating = NonNegative(0)\n",
    "    runtime = NonNegative(0)\n",
    "    budget = NonNegative(0)\n",
    "    gross = NonNegative(0)\n",
    "    \n",
    "    def __init__(self, title, rating, runtime, budget, gross):\n",
    "        self.title = title\n",
    "        self.rating = rating\n",
    "        self.runtime = runtime\n",
    "        self.budget = budget\n",
    "        self.gross = gross\n",
    "    \n",
    "    def profit(self):\n",
    "        return self.gross - self.budget\n",
    "    \n",
    "    \n",
    "m = Movie('Casablanca', 97, 102, 964000, 1300000)\n",
    "print m.budget  # calls Movie.budget.__get__(m, Movie)\n",
    "m.rating = 100  # calls Movie.budget.__set__(m, 100)\n",
    "try:\n",
    "    m.rating = -1   # calls Movie.budget.__set__(m, -100)\n",
    "except ValueError:\n",
    "    print \"Woops, negative value\""
   ]
  },
  {
   "cell_type": "markdown",
   "metadata": {},
   "source": [
    "#### Here:\n",
    "\n",
    "* `NonNegative` is a descriptor object. \n",
    "* It's a descriptor because it defines the `__get__`, `__set__`, or `__delete__` method.\n",
    "\n",
    "The `Movie` class looks *very* clean. We create 4 descriptors at the class level, and treat them like normal (instance-level) attributes everywhere else. And apparently, the desciptors are checking for non-negative values for us.\n",
    " \n",
    "#### Accessing a descriptor\n",
    "\n",
    "When Python sees the line ``print m.budget``, it recognizes that budget is a descriptor with a `__get__` method. Instead of passing `m.budget` to print directly, it calls `Movie.budget.__get__`, and feeds the result of *that* to print. This is similar to what happens when you access a property -- Python automatically calls a method, and returns the result.\n",
    "\n",
    "`__get__` receives two arguments: the instance object to the left of the period (that is, the `m` object in `m.budget`), and the type of that instance (`Movie`). In some Python [documentation](http://docs.python.org/2/reference/datamodel.html#implementing-descriptors), `Movie` is called the **owner** of the descriptor. If we had asked for `Movie.budget`, Python whould have called `Movie.budget.__get__(None, Movie)`; that is, the fist argument is either an instance of the owner, or ```None```. These input arguments may seem weird to you, but they're there to give you information about what object the descriptor is part of. This will make sense once we look inside the `NonNegative` class.\n",
    "\n",
    "#### Assigning to a descriptor\n",
    "\n",
    "When Python sees `m.rating = 100`, Python recognizes `rating` is a descriptor with a ``__set__`` method, and it calls `Movie.rating.__set__(m, 100)`. Like `__get__`, the first argument of `__set__` is the instance to the left of the period (the `m` in `m.rating = 100`). The second argument is the value to the right of the equals sign (100). \n",
    "\n",
    "#### Deleting a descriptor\n",
    "\n",
    "For the sake of completeness, if you call `del m.budget`, Python will call `Movie.budget.__delete__(m)`. \n",
    "\n",
    "#### How NonNegative works\n",
    "With this in mind, we can now look to see how the `NonNegative` class works. Each instance of `NonNegative` maintains a dictionary that maps owner instances to data values. When we call `m.budget`, the `__get__` method looks up the data associated with `m`, and returns the result (or a default value, if no such value exists). `__set__` uses the same approach, but includes the extra non-negativity check. We use a `WeakKeyDictionary` instead of a normal `dict` to prevent a memory leak -- we don't want an instance to stay alive simply because it's in the descriptor dictionary, and otherwise unused.\n",
    "\n",
    "Working with descriptors is slightly awkward. Because they live at the class level, every instance shares the same descriptor. This means that descriptors have to manually manage different states for different object instances, and need to explicitly be passed instances as the first argument of the `__get__`, ``__set__``, and ``__delete__`` methods. \n",
    "\n",
    "Hopefully, however, this example gives you an idea of what descriptors can be useful for -- they provide a way to organize property logic into isolated classes. If you find yourself repeating the same logic across several properties, that should be a clue to consider whether refactoring that code into a descriptor is worthwhile."
   ]
  },
  {
   "cell_type": "markdown",
   "metadata": {
    "collapsed": false
   },
   "source": [
    "### Slots"
   ]
  },
  {
   "cell_type": "markdown",
   "metadata": {},
   "source": [
    "when you define __slots__ on a class, you’re telling the Python interpreter that the list of attributes described within are the only attributes this class will ever need, and a dynamic dictionary is not needed to manage the references to other objects within the class. This can save enormous amounts of space if you have thousands or millions of objects in memory.\n",
    "\n",
    "For example, if you define:\n",
    "\n"
   ]
  },
  {
   "cell_type": "code",
   "execution_count": null,
   "metadata": {
    "collapsed": false
   },
   "outputs": [],
   "source": [
    "class Foo(object):\n",
    "    __slots__ = ['x']\n",
    "    def __init__(self, n):\n",
    "        self.x = n\n",
    "\n",
    "class Bar(object):\n",
    "    def __init__(self, n):\n",
    "        self.x = n\n",
    "y = Foo(1)\n",
    "p = Bar(1)\n",
    "print y.x  # prints \"1\"\n",
    "y.x = 2\n",
    "print y.x  # prints \"2\"\n",
    "\n",
    "\n",
    "y.z = 4    # Throws exception.\n",
    "p.z = 4\n"
   ]
  },
  {
   "cell_type": "code",
   "execution_count": null,
   "metadata": {
    "collapsed": true
   },
   "outputs": [],
   "source": []
  }
 ],
 "metadata": {
  "kernelspec": {
   "display_name": "Python 2",
   "language": "python",
   "name": "python2"
  },
  "language_info": {
   "codemirror_mode": {
    "name": "ipython",
    "version": 2
   },
   "file_extension": ".py",
   "mimetype": "text/x-python",
   "name": "python",
   "nbconvert_exporter": "python",
   "pygments_lexer": "ipython2",
   "version": "2.7.11"
  }
 },
 "nbformat": 4,
 "nbformat_minor": 0
}
