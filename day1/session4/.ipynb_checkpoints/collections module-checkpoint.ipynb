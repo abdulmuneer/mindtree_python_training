{
 "cells": [
  {
   "cell_type": "markdown",
   "metadata": {},
   "source": [
    "### Counter\n",
    "\n",
    "A Counter is a container that keeps track of how many times equivalent values are added. It can be used to implement the same algorithms for which bag or multiset data structures are commonly used in other languages.\n"
   ]
  },
  {
   "cell_type": "markdown",
   "metadata": {},
   "source": [
    "Counter supports three forms of initialization. Its constructor can be called with a sequence of items, a dictionary containing keys and counts, or using keyword arguments mapping string names to counts."
   ]
  },
  {
   "cell_type": "code",
   "execution_count": null,
   "metadata": {
    "collapsed": true
   },
   "outputs": [],
   "source": [
    "import collections\n",
    "\n",
    "print collections.Counter(['a', 'b', 'c', 'a', 'b', 'b'])\n",
    "print collections.Counter({'a':2, 'b':3, 'c':1})\n",
    "print collections.Counter(a=2, b=3, c=1)\n"
   ]
  },
  {
   "cell_type": "code",
   "execution_count": null,
   "metadata": {
    "collapsed": true
   },
   "outputs": [],
   "source": [
    "# Empty counter\n",
    "import collections\n",
    "\n",
    "c = collections.Counter()\n",
    "print 'Initial :', c\n",
    "\n",
    "c.update('abcdaab')\n",
    "print 'Sequence:', c\n",
    "\n",
    "c.update({'a':1, 'd':5})\n",
    "print 'Dict    :', c\n"
   ]
  },
  {
   "cell_type": "code",
   "execution_count": null,
   "metadata": {
    "collapsed": true
   },
   "outputs": [],
   "source": [
    "import collections\n",
    "\n",
    "c = collections.Counter('abcdaab')\n",
    "\n",
    "for letter in 'abcde':\n",
    "    print '%s : %d' % (letter, c[letter])\n",
    "\n",
    "#no error for 'e' in example above"
   ]
  },
  {
   "cell_type": "code",
   "execution_count": null,
   "metadata": {
    "collapsed": true
   },
   "outputs": [],
   "source": [
    "# most common"
   ]
  },
  {
   "cell_type": "code",
   "execution_count": null,
   "metadata": {
    "collapsed": true
   },
   "outputs": [],
   "source": [
    "#Arithmetics \n",
    "import collections\n",
    "\n",
    "c1 = collections.Counter(['a', 'b', 'c', 'a', 'b', 'b'])\n",
    "c2 = collections.Counter('alphabet')\n",
    "\n",
    "print 'C1:', c1\n",
    "print 'C2:', c2\n",
    "\n",
    "print '\\nCombined counts:'\n",
    "print c1 + c2\n",
    "\n",
    "print '\\nSubtraction:'\n",
    "print c1 - c2\n",
    "\n",
    "print '\\nIntersection (taking positive minimums):'\n",
    "print c1 & c2\n",
    "\n",
    "print '\\nUnion (taking maximums):'\n",
    "print c1 | c2\n",
    "\n",
    "c1 = collections.Counter(['a', 'b', 'c', 'a', 'b', 'b'])\n",
    "c2 = collections.Counter('alphabet')\n",
    "\n",
    "print 'C1:', c1\n",
    "print 'C2:', c2\n",
    "\n",
    "print '\\nCombined counts:'\n",
    "print c1 + c2\n",
    "\n",
    "print '\\nSubtraction:'\n",
    "print c1 - c2\n",
    "\n",
    "print '\\nIntersection (taking positive minimums):'\n",
    "print c1 & c2\n",
    "\n",
    "print '\\nUnion (taking maximums):'\n",
    "print c1 | c2"
   ]
  },
  {
   "cell_type": "markdown",
   "metadata": {},
   "source": [
    "### Named Tuples"
   ]
  },
  {
   "cell_type": "code",
   "execution_count": null,
   "metadata": {
    "collapsed": true
   },
   "outputs": [],
   "source": [
    "import collections\n",
    "\n",
    "Person = collections.namedtuple('Person', 'name age gender')\n",
    "\n",
    "print 'Type of Person:', type(Person)\n",
    "\n",
    "bob = Person(name='Bob', age=30, gender='male')\n",
    "print '\\nRepresentation:', bob\n",
    "\n",
    "jane = Person(name='Jane', age=29, gender='female')\n",
    "print '\\nField by name:', jane.name\n",
    "\n",
    "print '\\nFields by index:'\n",
    "for p in [ bob, jane ]:\n",
    "    print '%s is a %d year old %s' % p\n",
    "  "
   ]
  },
  {
   "cell_type": "markdown",
   "metadata": {},
   "source": [
    "### Defaultdict\n",
    " A dictionary that returns a default value if the key is not present."
   ]
  },
  {
   "cell_type": "code",
   "execution_count": null,
   "metadata": {
    "collapsed": false
   },
   "outputs": [],
   "source": [
    "from collections import defaultdict\n",
    "x = defaultdict(int)\n",
    "print x['abcd']"
   ]
  },
  {
   "cell_type": "code",
   "execution_count": null,
   "metadata": {
    "collapsed": true
   },
   "outputs": [],
   "source": [
    "import collections\n",
    "\n",
    "def default_factory():\n",
    "    return 'default value'\n",
    "\n",
    "d = collections.defaultdict(default_factory, foo='bar')\n",
    "print 'd:', d\n",
    "print 'foo =>', d['foo']\n",
    "print 'bar =>', d['bar']"
   ]
  }
 ],
 "metadata": {
  "kernelspec": {
   "display_name": "Python 2",
   "language": "python",
   "name": "python2"
  },
  "language_info": {
   "codemirror_mode": {
    "name": "ipython",
    "version": 2
   },
   "file_extension": ".py",
   "mimetype": "text/x-python",
   "name": "python",
   "nbconvert_exporter": "python",
   "pygments_lexer": "ipython2",
   "version": "2.7.11"
  }
 },
 "nbformat": 4,
 "nbformat_minor": 0
}
